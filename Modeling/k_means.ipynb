{
 "cells": [
  {
   "cell_type": "code",
   "execution_count": 14,
   "metadata": {},
   "outputs": [],
   "source": [
    "# Import required libraries\n",
    "import pandas as pd\n",
    "from sklearn.cluster import KMeans"
   ]
  },
  {
   "cell_type": "code",
   "execution_count": 15,
   "metadata": {},
   "outputs": [
    {
     "name": "stdout",
     "output_type": "stream",
     "text": [
      "Finished_Loading\n"
     ]
    }
   ],
   "source": [
    "url = 'https://drive.google.com/file/d/1E9bFoMAwMVPMkZHmMQfWvSgaWoCLtKp4/view?usp=share_link'\n",
    "url = 'https://drive.google.com/uc?id=' + url.split('/')[-2]\n",
    "y_test_autoencoder = pd.read_pickle(url)\n",
    "\n",
    "url = 'https://drive.google.com/file/d/1dknbQLJhQsbSFDNIpwjxZQwPc3fF14yF/view?usp=share_link'\n",
    "url = 'https://drive.google.com/uc?id=' + url.split('/')[-2]\n",
    "y_train_autoencoder = pd.read_pickle(url)\n",
    "\n",
    "\n",
    "url = 'https://drive.google.com/file/d/105vmXogIQU8srmtdzfCHYQ9G-T7Iu5hl/view?usp=share_link'\n",
    "url = 'https://drive.google.com/uc?id=' + url.split('/')[-2]\n",
    "X_test_autoencoder = pd.read_pickle(url)\n",
    "\n",
    "url = 'https://drive.google.com/file/d/1QemU274E0c14R8uknuipP20rNgDSLzcg/view?usp=share_link'\n",
    "url = 'https://drive.google.com/uc?id=' + url.split('/')[-2]\n",
    "X_train_autoencoder = pd.read_pickle(url)\n",
    "\n",
    "print('Finished_Loading')"
   ]
  },
  {
   "cell_type": "code",
   "execution_count": 30,
   "metadata": {},
   "outputs": [],
   "source": [
    "# Fit k-means clustering on the data\n",
    "kmeans_train = KMeans(n_clusters=2, init='k-means++', max_iter=300, n_init=10, random_state=0).fit(X_train_autoencoder)\n",
    "\n",
    "# Predict the cluster labels\n",
    "#labels = kmeans.predict(X_train_autoencoder)\n"
   ]
  },
  {
   "cell_type": "code",
   "execution_count": 31,
   "metadata": {},
   "outputs": [],
   "source": [
    "from sklearn.metrics import accuracy_score, precision_score, recall_score, f1_score, confusion_matrix\n",
    "from sklearn.metrics import roc_auc_score\n",
    "\n",
    "from sklearn import metrics\n",
    "\n",
    "# calculate the fnr and fpr\n",
    "def calculate_fpr_fnr(y_test, yhat_test):\n",
    "    tn, fp, fn, tp = confusion_matrix(y_test, yhat_test).ravel()\n",
    "    fpr = fp / (fp + tn)\n",
    "    fnr = fn / (fn + tp)\n",
    "    return fpr, fnr"
   ]
  },
  {
   "cell_type": "code",
   "execution_count": 32,
   "metadata": {},
   "outputs": [
    {
     "name": "stdout",
     "output_type": "stream",
     "text": [
      "AUC in train: 0.6545483977833997\n"
     ]
    }
   ],
   "source": [
    "auc = roc_auc_score(y_train_autoencoder, kmeans_train.labels_)\n",
    "print('AUC in train:', auc)"
   ]
  },
  {
   "cell_type": "code",
   "execution_count": 33,
   "metadata": {},
   "outputs": [],
   "source": [
    "kmeans_test = KMeans(n_clusters=2, init='k-means++', max_iter=300, n_init=10, random_state=0).fit(X_test_autoencoder)"
   ]
  },
  {
   "cell_type": "code",
   "execution_count": 34,
   "metadata": {},
   "outputs": [
    {
     "name": "stdout",
     "output_type": "stream",
     "text": [
      "AUC in test: 0.3474573596210948\n"
     ]
    }
   ],
   "source": [
    "auc = roc_auc_score(y_test_autoencoder, kmeans_test.labels_)\n",
    "print('AUC in test:', auc)"
   ]
  },
  {
   "cell_type": "code",
   "execution_count": 35,
   "metadata": {},
   "outputs": [
    {
     "name": "stdout",
     "output_type": "stream",
     "text": [
      "False Positive Rate for kmeans 0.7368214992019114\n",
      "False Negative Rate for kmeans 0.5682637815558991\n"
     ]
    }
   ],
   "source": [
    "fpr, fnr = calculate_fpr_fnr(y_test_autoencoder, kmeans_test.labels_)\n",
    "print('False Positive Rate for kmeans',fpr)\n",
    "print('False Negative Rate for kmeans',fnr)"
   ]
  },
  {
   "cell_type": "code",
   "execution_count": null,
   "metadata": {},
   "outputs": [],
   "source": []
  }
 ],
 "metadata": {
  "kernelspec": {
   "display_name": "Python 3.9.12 ('base')",
   "language": "python",
   "name": "python3"
  },
  "language_info": {
   "codemirror_mode": {
    "name": "ipython",
    "version": 3
   },
   "file_extension": ".py",
   "mimetype": "text/x-python",
   "name": "python",
   "nbconvert_exporter": "python",
   "pygments_lexer": "ipython3",
   "version": "3.9.12"
  },
  "orig_nbformat": 4,
  "vscode": {
   "interpreter": {
    "hash": "586ad1ed5c97141e2437e681efbf1ec0adcd17d830cf5af2ca3d2819e743e158"
   }
  }
 },
 "nbformat": 4,
 "nbformat_minor": 2
}
