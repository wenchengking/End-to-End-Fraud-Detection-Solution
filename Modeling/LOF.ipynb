{
 "cells": [
  {
   "cell_type": "code",
   "execution_count": 20,
   "metadata": {},
   "outputs": [],
   "source": [
    "import numpy as np\n",
    "import pandas as pd\n",
    "from sklearn.metrics import get_scorer_names, roc_auc_score\n",
    "from sklearn.model_selection import (GridSearchCV, ShuffleSplit,\n",
    "                                     train_test_split)\n",
    "from sklearn.neighbors import LocalOutlierFactor"
   ]
  },
  {
   "cell_type": "code",
   "execution_count": 11,
   "metadata": {},
   "outputs": [],
   "source": [
    "url = 'https://drive.google.com/file/d/1E9bFoMAwMVPMkZHmMQfWvSgaWoCLtKp4/view?usp=share_link'\n",
    "url = 'https://drive.google.com/uc?id=' + url.split('/')[-2]\n",
    "y_test_autoencoder = pd.read_pickle(url)\n",
    "\n",
    "url = 'https://drive.google.com/file/d/1dknbQLJhQsbSFDNIpwjxZQwPc3fF14yF/view?usp=share_link'\n",
    "url = 'https://drive.google.com/uc?id=' + url.split('/')[-2]\n",
    "y_train_autoencoder = pd.read_pickle(url)\n",
    "\n",
    "\n",
    "url = 'https://drive.google.com/file/d/105vmXogIQU8srmtdzfCHYQ9G-T7Iu5hl/view?usp=share_link'\n",
    "url = 'https://drive.google.com/uc?id=' + url.split('/')[-2]\n",
    "X_test_autoencoder = pd.read_pickle(url)\n",
    "\n",
    "url = 'https://drive.google.com/file/d/1QemU274E0c14R8uknuipP20rNgDSLzcg/view?usp=share_link'\n",
    "url = 'https://drive.google.com/uc?id=' + url.split('/')[-2]\n",
    "X_train_autoencoder = pd.read_pickle(url)"
   ]
  },
  {
   "cell_type": "code",
   "execution_count": 12,
   "metadata": {},
   "outputs": [
    {
     "name": "stdout",
     "output_type": "stream",
     "text": [
      "(796896, 10)\n",
      "(103495, 10)\n",
      "(796896,)\n",
      "(103495,)\n"
     ]
    }
   ],
   "source": [
    "print(X_train_autoencoder.shape)\n",
    "print(X_test_autoencoder.shape)\n",
    "print(y_train_autoencoder.shape)\n",
    "print(y_test_autoencoder.shape)"
   ]
  },
  {
   "attachments": {},
   "cell_type": "markdown",
   "metadata": {},
   "source": [
    "According to the paper [Automatic Hyperparameter Tuning Method for Local Outlier Factor, with Applications to Anomaly Detection](https://arxiv.org/abs/1902.00567) by Zekun Xu et al., we are tuning hyperparameters (neighborhood size, containmination) simultanesouly. The first thing they did was check for skewness and log transform the data to alleviate the effect of extreme outliers, we did the same."
   ]
  },
  {
   "cell_type": "code",
   "execution_count": 13,
   "metadata": {},
   "outputs": [
    {
     "name": "stdout",
     "output_type": "stream",
     "text": [
      "0    0.507113\n",
      "1    0.488364\n",
      "2    0.945407\n",
      "3    1.036647\n",
      "4    0.677018\n",
      "5    0.338238\n",
      "6    0.662746\n",
      "7    0.976914\n",
      "8    0.681232\n",
      "9    1.016614\n",
      "dtype: float32\n"
     ]
    }
   ],
   "source": [
    "# show skewness\n",
    "print(X_train_autoencoder.skew())"
   ]
  },
  {
   "attachments": {},
   "cell_type": "markdown",
   "metadata": {},
   "source": [
    "We did noticed the same issue. Log Transform."
   ]
  },
  {
   "cell_type": "code",
   "execution_count": 14,
   "metadata": {},
   "outputs": [],
   "source": [
    "# log transform\n",
    "X_train_autoencoder = np.log1p(X_train_autoencoder) # avoid dvide by zero\n",
    "X_test_autoencoder = np.log1p(X_test_autoencoder)"
   ]
  },
  {
   "attachments": {},
   "cell_type": "markdown",
   "metadata": {},
   "source": [
    "The below grid search code doesn't work because [LocalOutlierFactor does not have a predict method](https://stackoverflow.com/questions/50013828/scikitlearn-model-giving-localoutlierfactor-object-has-no-attribute-predict), it instead have **private** method `_predict` that returns the labels (1 inlier, -1 outlier). Therefore, we need to write our own..."
   ]
  },
  {
   "cell_type": "code",
   "execution_count": 16,
   "metadata": {},
   "outputs": [
    {
     "data": {
      "text/plain": [
       "\"model = LocalOutlierFactor(n_jobs=-1) # uses all processors\\n\\n# TODO; tune for contamination as well.\\n# Define the parameter grid for grid search\\nparam_grid = {'n_neighbors': [3, 5, 10, 15],\\n              'algorithm': ['auto', 'ball_tree', 'kd_tree', 'brute']}\\n\\n# Perform grid search with cross validation\\ngrid_search = GridSearchCV(model, param_grid=param_grid, cv=3, scoring='roc_auc', n_jobs=-1)\\ngrid_search.fit(X_train_autoencoder, y_train_autoencoder)\\n\\n# Print the best parameters and the corresponding ROC AUC score\\nprint('Best Parameters:', grid_search.best_params_)\\nprint('Best ROC AUC Score:', grid_search.best_score_)\\n\""
      ]
     },
     "execution_count": 16,
     "metadata": {},
     "output_type": "execute_result"
    }
   ],
   "source": [
    "\"\"\"model = LocalOutlierFactor(n_jobs=-1) # uses all processors\n",
    "\n",
    "# TODO; tune for contamination as well.\n",
    "# Define the parameter grid for grid search\n",
    "param_grid = {'n_neighbors': [3, 5, 10, 15],\n",
    "              'algorithm': ['auto', 'ball_tree', 'kd_tree', 'brute']}\n",
    "\n",
    "# Perform grid search with cross validation\n",
    "grid_search = GridSearchCV(model, param_grid=param_grid, cv=3, scoring='roc_auc', n_jobs=-1)\n",
    "grid_search.fit(X_train_autoencoder, y_train_autoencoder)\n",
    "\n",
    "# Print the best parameters and the corresponding ROC AUC score\n",
    "print('Best Parameters:', grid_search.best_params_)\n",
    "print('Best ROC AUC Score:', grid_search.best_score_)\n",
    "\"\"\""
   ]
  },
  {
   "attachments": {},
   "cell_type": "markdown",
   "metadata": {},
   "source": [
    "Testing: converting outliers as fraud (-1->1) and inliers to not fraud (1->0)"
   ]
  },
  {
   "cell_type": "code",
   "execution_count": 34,
   "metadata": {},
   "outputs": [
    {
     "name": "stdout",
     "output_type": "stream",
     "text": [
      "AUC: 0.536\n"
     ]
    }
   ],
   "source": [
    "# Fit the Local Outlier Factor algorithm on the features\n",
    "X_train = X_train_autoencoder\n",
    "y_train = y_train_autoencoder\n",
    "clf = LocalOutlierFactor(n_neighbors=20, contamination=0.01)\n",
    "y_pred = clf.fit_predict(X_train)\n",
    "y_pred_binary = [1 if p == -1 else 0 for p in y_pred]\n",
    "y_pred_binary = np.array(y_pred_binary)\n",
    "auc = roc_auc_score(y_train, y_pred_binary)\n",
    "print('AUC: %.3f' % auc)"
   ]
  },
  {
   "attachments": {},
   "cell_type": "markdown",
   "metadata": {},
   "source": [
    "Per the paper's recommendation, we tune for both simultanously. The original paper by Breunig et al recommended at least min(k) = 10. "
   ]
  },
  {
   "cell_type": "code",
   "execution_count": 28,
   "metadata": {},
   "outputs": [
    {
     "name": "stdout",
     "output_type": "stream",
     "text": [
      "TRAIN: 533920 TEST: 262976\n",
      "TRAIN: 533920 TEST: 262976\n",
      "TRAIN: 533920 TEST: 262976\n"
     ]
    }
   ],
   "source": [
    "# initialize hyperparameter grid and AUC\n",
    "param_grid = {'n_neighbors': [],\n",
    "              'contamination': [0.1, 0.2, 0.3, 0.4, 0.5]}\n",
    "best_params = {}\n",
    "best_auc = 0\n",
    "\n",
    "# split X_train using cv\n",
    "cv = ShuffleSplit(n_splits=3, test_size=0.33, random_state=42) # 3-fold cv with 3 repeats``\n",
    "for train_index, test_index in cv.split(X_train):\n",
    "    # using same split for each hyperparameter\n",
    "    X_train_cv, X_test_cv = X_train.iloc[train_index], X_train.iloc[test_index]\n",
    "    y_train_cv, y_test_cv = y_train.iloc[train_index], y_train.iloc[test_index]\n",
    "\n",
    "    # grid search\n",
    "    for n_neighbors in param_grid['n_neighbors']:\n",
    "        for contamination in param_grid['contamination']:\n",
    "            # fit model\n",
    "            clf = LocalOutlierFactor(n_neighbors=n_neighbors, contamination=contamination)\n",
    "            y_pred = clf.fit_predict(X_train_cv)\n",
    "            y_pred_binary = [1 if p == -1 else 0 for p in y_pred]\n",
    "            y_pred_binary = np.array(y_pred_binary)\n",
    "            auc = roc_auc_score(y_train_cv, y_pred_binary)\n",
    "            print('AUC: %.3f' % auc)\n",
    "\n",
    "            # update best params\n",
    "            if auc > best_auc:\n",
    "                best_params['n_neighbors'] = n_neighbors\n",
    "                best_params['contamination'] = contamination\n",
    "                best_auc = auc\n"
   ]
  },
  {
   "cell_type": "code",
   "execution_count": null,
   "metadata": {},
   "outputs": [],
   "source": [
    "# Retrain the model using the best parameters on the entire training set\n",
    "best_model = LocalOutlierFactor(n_neighbors=grid_search.best_params_['n_neighbors'], \n",
    "                                algorithm=grid_search.best_params_['algorithm'], \n",
    "                                novelty=True, n_jobs=-1)\n",
    "best_model.fit(X_train_autoencoder, y_train_autoencoder)"
   ]
  },
  {
   "cell_type": "code",
   "execution_count": null,
   "metadata": {},
   "outputs": [],
   "source": [
    "\n",
    "# Evaluate the performance on the test set\n",
    "y_pred = best_model.predict(X_test_autoencoder)\n",
    "roc_auc = roc_auc_score(y_test_autoencoder, y_pred)\n",
    "print('ROC AUC Score on Test Set:', roc_auc)"
   ]
  }
 ],
 "metadata": {
  "kernelspec": {
   "display_name": "Python 3 (ipykernel)",
   "language": "python",
   "name": "python3"
  },
  "language_info": {
   "codemirror_mode": {
    "name": "ipython",
    "version": 3
   },
   "file_extension": ".py",
   "mimetype": "text/x-python",
   "name": "python",
   "nbconvert_exporter": "python",
   "pygments_lexer": "ipython3",
   "version": "3.10.6"
  },
  "orig_nbformat": 4
 },
 "nbformat": 4,
 "nbformat_minor": 2
}
