{
 "cells": [
  {
   "cell_type": "code",
   "execution_count": 1,
   "metadata": {},
   "outputs": [],
   "source": [
    "# Libraries Loading\n",
    "import zipfile\n",
    "\n",
    "import matplotlib.pyplot as plt\n",
    "import numpy as np\n",
    "import pandas as pd\n",
    "import seaborn as sns\n",
    "import statsmodels.api as sm\n",
    "from matplotlib.ticker import MaxNLocator\n",
    "from sklearn.decomposition import PCA\n",
    "from sklearn.ensemble import RandomForestClassifier\n",
    "from sklearn.metrics import (average_precision_score, confusion_matrix,\n",
    "                             f1_score, log_loss, precision_score, recall_score,\n",
    "                             roc_auc_score)\n",
    "from sklearn.model_selection import GridSearchCV, KFold, cross_val_score\n",
    "from sklearn.metrics import roc_auc_score\n",
    "import pickle"
   ]
  },
  {
   "cell_type": "code",
   "execution_count": 2,
   "metadata": {},
   "outputs": [
    {
     "name": "stdout",
     "output_type": "stream",
     "text": [
      "Finished_Loading\n"
     ]
    }
   ],
   "source": [
    "url = 'https://drive.google.com/file/d/1E9bFoMAwMVPMkZHmMQfWvSgaWoCLtKp4/view?usp=share_link'\n",
    "url = 'https://drive.google.com/uc?id=' + url.split('/')[-2]\n",
    "y_test_autoencoder = pd.read_pickle(url)\n",
    "\n",
    "url = 'https://drive.google.com/file/d/1dknbQLJhQsbSFDNIpwjxZQwPc3fF14yF/view?usp=share_link'\n",
    "url = 'https://drive.google.com/uc?id=' + url.split('/')[-2]\n",
    "y_train_autoencoder = pd.read_pickle(url)\n",
    "\n",
    "\n",
    "url = 'https://drive.google.com/file/d/105vmXogIQU8srmtdzfCHYQ9G-T7Iu5hl/view?usp=share_link'\n",
    "url = 'https://drive.google.com/uc?id=' + url.split('/')[-2]\n",
    "X_test_autoencoder = pd.read_pickle(url)\n",
    "\n",
    "url = 'https://drive.google.com/file/d/1QemU274E0c14R8uknuipP20rNgDSLzcg/view?usp=share_link'\n",
    "url = 'https://drive.google.com/uc?id=' + url.split('/')[-2]\n",
    "X_train_autoencoder = pd.read_pickle(url)\n",
    "\n",
    "print('Finished_Loading')"
   ]
  },
  {
   "cell_type": "code",
   "execution_count": 3,
   "metadata": {},
   "outputs": [
    {
     "name": "stderr",
     "output_type": "stream",
     "text": [
      "/opt/anaconda/lib/python3.9/site-packages/sklearn/base.py:329: UserWarning: Trying to unpickle estimator DecisionTreeClassifier from version 1.2.1 when using version 1.0.2. This might lead to breaking code or invalid results. Use at your own risk. For more info please refer to:\n",
      "https://scikit-learn.org/stable/modules/model_persistence.html#security-maintainability-limitations\n",
      "  warnings.warn(\n",
      "/opt/anaconda/lib/python3.9/site-packages/sklearn/base.py:329: UserWarning: Trying to unpickle estimator RandomForestClassifier from version 1.2.1 when using version 1.0.2. This might lead to breaking code or invalid results. Use at your own risk. For more info please refer to:\n",
      "https://scikit-learn.org/stable/modules/model_persistence.html#security-maintainability-limitations\n",
      "  warnings.warn(\n",
      "/opt/anaconda/lib/python3.9/site-packages/sklearn/base.py:329: UserWarning: Trying to unpickle estimator LabelBinarizer from version 1.2.1 when using version 1.0.2. This might lead to breaking code or invalid results. Use at your own risk. For more info please refer to:\n",
      "https://scikit-learn.org/stable/modules/model_persistence.html#security-maintainability-limitations\n",
      "  warnings.warn(\n",
      "/opt/anaconda/lib/python3.9/site-packages/sklearn/base.py:329: UserWarning: Trying to unpickle estimator MLPClassifier from version 1.2.1 when using version 1.0.2. This might lead to breaking code or invalid results. Use at your own risk. For more info please refer to:\n",
      "https://scikit-learn.org/stable/modules/model_persistence.html#security-maintainability-limitations\n",
      "  warnings.warn(\n"
     ]
    }
   ],
   "source": [
    "# Load the model from the pickle file\n",
    "with open('RandomForestModel.pkl', 'rb') as f:\n",
    "    randomForestmodel = pickle.load(f)\n",
    "\n",
    "# Load the model from the pickle file\n",
    "with open('XGBoostModel.pkl', 'rb') as f:\n",
    "    XGBoostModel = pickle.load(f)\n",
    "\n",
    "# Load the model from the pickle file\n",
    "with open('NeuralNetworkModel.pkl', 'rb') as f:\n",
    "    NeuralNetworkModel = pickle.load(f)\n",
    "\n",
    "# Load the model from the pickle file\n",
    "with open('XGBoostModel-PCA.pkl', 'rb') as f:\n",
    "    XGBoostModel_PCA = pickle.load(f)"
   ]
  },
  {
   "cell_type": "code",
   "execution_count": 4,
   "metadata": {},
   "outputs": [
    {
     "data": {
      "text/plain": [
       "RandomForestClassifier(max_depth=5, max_features='sqrt', min_samples_leaf=5,\n",
       "                       n_jobs=-1, oob_score=True, random_state=190322)"
      ]
     },
     "execution_count": 4,
     "metadata": {},
     "output_type": "execute_result"
    }
   ],
   "source": [
    "randomForestmodel"
   ]
  },
  {
   "cell_type": "code",
   "execution_count": 5,
   "metadata": {},
   "outputs": [
    {
     "data": {
      "text/plain": [
       "XGBClassifier(base_score=None, booster=None, callbacks=None,\n",
       "              colsample_bylevel=None, colsample_bynode=None,\n",
       "              colsample_bytree=None, early_stopping_rounds=None,\n",
       "              enable_categorical=False, eval_metric=None, feature_types=None,\n",
       "              gamma=None, gpu_id=None, grow_policy=None, importance_type=None,\n",
       "              interaction_constraints=None, learning_rate=0.1, max_bin=None,\n",
       "              max_cat_threshold=None, max_cat_to_onehot=None,\n",
       "              max_delta_step=None, max_depth=7, max_leaves=None,\n",
       "              min_child_weight=None, missing=nan, monotone_constraints=None,\n",
       "              n_estimators=150, n_jobs=None, num_parallel_tree=None,\n",
       "              predictor=None, random_state=None, ...)"
      ]
     },
     "execution_count": 5,
     "metadata": {},
     "output_type": "execute_result"
    }
   ],
   "source": [
    "XGBoostModel"
   ]
  },
  {
   "cell_type": "code",
   "execution_count": 6,
   "metadata": {},
   "outputs": [
    {
     "data": {
      "text/plain": [
       "MLPClassifier(activation='tanh', alpha=0.001)"
      ]
     },
     "execution_count": 6,
     "metadata": {},
     "output_type": "execute_result"
    }
   ],
   "source": [
    "NeuralNetworkModel"
   ]
  },
  {
   "cell_type": "code",
   "execution_count": 7,
   "metadata": {},
   "outputs": [
    {
     "data": {
      "text/plain": [
       "XGBClassifier(base_score=None, booster=None, callbacks=None,\n",
       "              colsample_bylevel=None, colsample_bynode=None,\n",
       "              colsample_bytree=None, early_stopping_rounds=None,\n",
       "              enable_categorical=False, eval_metric=None, feature_types=None,\n",
       "              gamma=None, gpu_id=None, grow_policy=None, importance_type=None,\n",
       "              interaction_constraints=None, learning_rate=0.1, max_bin=None,\n",
       "              max_cat_threshold=None, max_cat_to_onehot=None,\n",
       "              max_delta_step=None, max_depth=7, max_leaves=None,\n",
       "              min_child_weight=None, missing=nan, monotone_constraints=None,\n",
       "              n_estimators=150, n_jobs=None, num_parallel_tree=None,\n",
       "              predictor=None, random_state=None, ...)"
      ]
     },
     "execution_count": 7,
     "metadata": {},
     "output_type": "execute_result"
    }
   ],
   "source": [
    "XGBoostModel_PCA"
   ]
  },
  {
   "cell_type": "code",
   "execution_count": 8,
   "metadata": {},
   "outputs": [
    {
     "name": "stdout",
     "output_type": "stream",
     "text": [
      "ROC AUC for Random Forest in test dataset : 0.8755\n"
     ]
    }
   ],
   "source": [
    "#testing chunk for random Forest\n",
    "yhat_test_randomForest = randomForestmodel.predict(X_test_autoencoder)\n",
    "ROC_AUC_randomFroest = roc_auc_score(y_test_autoencoder, yhat_test_randomForest)\n",
    "print('ROC AUC for Random Forest in test dataset : {:.4f}'.format(ROC_AUC_randomFroest))"
   ]
  },
  {
   "cell_type": "code",
   "execution_count": 9,
   "metadata": {},
   "outputs": [
    {
     "name": "stdout",
     "output_type": "stream",
     "text": [
      "ROC AUC for xgboost in test dataset : 0.9835\n"
     ]
    }
   ],
   "source": [
    "#testing chunk for xgboost\n",
    "yhat_test_xgboost = XGBoostModel.predict(X_test_autoencoder)\n",
    "ROC_AUC_xgboost = roc_auc_score(y_test_autoencoder, yhat_test_xgboost)\n",
    "print('ROC AUC for xgboost in test dataset : {:.4f}'.format(ROC_AUC_xgboost))"
   ]
  },
  {
   "cell_type": "code",
   "execution_count": 10,
   "metadata": {},
   "outputs": [
    {
     "name": "stdout",
     "output_type": "stream",
     "text": [
      "ROC AUC for neural networl in test dataset : 0.9953\n"
     ]
    }
   ],
   "source": [
    "#testing chunk for xgboost\n",
    "yhat_test_nn = NeuralNetworkModel.predict(X_test_autoencoder)\n",
    "ROC_AUC_nn = roc_auc_score(y_test_autoencoder, yhat_test_nn)\n",
    "print('ROC AUC for neural networl in test dataset : {:.4f}'.format(ROC_AUC_nn))"
   ]
  },
  {
   "cell_type": "code",
   "execution_count": 11,
   "metadata": {},
   "outputs": [],
   "source": [
    "from sklearn import metrics\n",
    "\n",
    "# calculate the fnr and fpr\n",
    "def calculate_fpr_fnr(y_test, yhat_test):\n",
    "    tn, fp, fn, tp = confusion_matrix(y_test, yhat_test).ravel()\n",
    "    fpr = fp / (fp + tn)\n",
    "    fnr = fn / (fn + tp)\n",
    "    return fpr, fnr"
   ]
  },
  {
   "cell_type": "code",
   "execution_count": 12,
   "metadata": {},
   "outputs": [
    {
     "name": "stdout",
     "output_type": "stream",
     "text": [
      "False Positive Rate for Random Forest 0.04292612410026804\n",
      "False Negative Rate for Random Forest 0.20607934054611024\n"
     ]
    }
   ],
   "source": [
    "fpr, fnr = calculate_fpr_fnr(y_test_autoencoder, yhat_test_randomForest)\n",
    "print('False Positive Rate for Random Forest',fpr)\n",
    "print('False Negative Rate for Random Forest',fnr)\n"
   ]
  },
  {
   "cell_type": "code",
   "execution_count": 13,
   "metadata": {},
   "outputs": [
    {
     "name": "stdout",
     "output_type": "stream",
     "text": [
      "False Positive Rate for XGBoost 0.0007729914770160521\n",
      "False Negative Rate for XGBoost 0.032199896960329724\n"
     ]
    }
   ],
   "source": [
    "fpr, fnr = calculate_fpr_fnr(y_test_autoencoder, yhat_test_xgboost)\n",
    "print('False Positive Rate for XGBoost',fpr)\n",
    "print('False Negative Rate for XGBoost',fnr)"
   ]
  },
  {
   "cell_type": "code",
   "execution_count": 14,
   "metadata": {},
   "outputs": [
    {
     "name": "stdout",
     "output_type": "stream",
     "text": [
      "False Positive Rate for Neural Networks 0.0007027195245600474\n",
      "False Negative Rate for Neural Networks 0.008758371973209686\n"
     ]
    }
   ],
   "source": [
    "fpr, fnr = calculate_fpr_fnr(y_test_autoencoder, yhat_test_nn)\n",
    "print('False Positive Rate for Neural Networks',fpr)\n",
    "print('False Negative Rate for Neural Networks',fnr)"
   ]
  },
  {
   "cell_type": "code",
   "execution_count": 15,
   "metadata": {},
   "outputs": [
    {
     "name": "stderr",
     "output_type": "stream",
     "text": [
      "/opt/anaconda/lib/python3.9/site-packages/sklearn/base.py:329: UserWarning: Trying to unpickle estimator ExtraTreeRegressor from version 1.2.1 when using version 1.0.2. This might lead to breaking code or invalid results. Use at your own risk. For more info please refer to:\n",
      "https://scikit-learn.org/stable/modules/model_persistence.html#security-maintainability-limitations\n",
      "  warnings.warn(\n",
      "/opt/anaconda/lib/python3.9/site-packages/sklearn/base.py:329: UserWarning: Trying to unpickle estimator IsolationForest from version 1.2.1 when using version 1.0.2. This might lead to breaking code or invalid results. Use at your own risk. For more info please refer to:\n",
      "https://scikit-learn.org/stable/modules/model_persistence.html#security-maintainability-limitations\n",
      "  warnings.warn(\n"
     ]
    }
   ],
   "source": [
    "\n",
    "# Load the model from the pickle file\n",
    "with open('IsolationForest.pkl', 'rb') as f:\n",
    "    IsolationForest = pickle.load(f)\n"
   ]
  },
  {
   "cell_type": "code",
   "execution_count": 16,
   "metadata": {},
   "outputs": [
    {
     "name": "stdout",
     "output_type": "stream",
     "text": [
      "ROC AUC for isolation forest in test dataset : 0.4948\n"
     ]
    }
   ],
   "source": [
    "#testing chunk for xgboost\n",
    "yhat_test_isolationforest = IsolationForest.predict(X_test_autoencoder)\n",
    "ROC_AUC_isolationforest = roc_auc_score(y_test_autoencoder, yhat_test_isolationforest)\n",
    "print('ROC AUC for isolation forest in test dataset : {:.4f}'.format(ROC_AUC_isolationforest))"
   ]
  },
  {
   "cell_type": "code",
   "execution_count": 17,
   "metadata": {},
   "outputs": [
    {
     "data": {
      "text/plain": [
       "IsolationForest(contamination=0.01, max_samples=0.9)"
      ]
     },
     "execution_count": 17,
     "metadata": {},
     "output_type": "execute_result"
    }
   ],
   "source": [
    "IsolationForest"
   ]
  },
  {
   "cell_type": "code",
   "execution_count": null,
   "metadata": {},
   "outputs": [],
   "source": []
  }
 ],
 "metadata": {
  "kernelspec": {
   "display_name": "Python 3.9.12 ('base')",
   "language": "python",
   "name": "python3"
  },
  "language_info": {
   "codemirror_mode": {
    "name": "ipython",
    "version": 3
   },
   "file_extension": ".py",
   "mimetype": "text/x-python",
   "name": "python",
   "nbconvert_exporter": "python",
   "pygments_lexer": "ipython3",
   "version": "3.9.12"
  },
  "orig_nbformat": 4,
  "vscode": {
   "interpreter": {
    "hash": "586ad1ed5c97141e2437e681efbf1ec0adcd17d830cf5af2ca3d2819e743e158"
   }
  }
 },
 "nbformat": 4,
 "nbformat_minor": 2
}
