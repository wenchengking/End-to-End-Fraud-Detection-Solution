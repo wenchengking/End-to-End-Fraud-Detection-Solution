{
 "cells": [
  {
   "cell_type": "code",
   "execution_count": 3,
   "id": "6c4754b1-f59a-47e7-8a98-9f1eb658e609",
   "metadata": {},
   "outputs": [],
   "source": [
    "from sklearn.datasets import load_breast_cancer\n",
    "from sklearn.neural_network import MLPClassifier\n",
    "from sklearn.model_selection import GridSearchCV, StratifiedKFold\n",
    "from sklearn.metrics import roc_auc_score\n",
    "import numpy as np\n",
    "import pandas as pd\n",
    "import matplotlib.pyplot as plt\n",
    "from sklearn.model_selection import GridSearchCV, train_test_split\n",
    "from sklearn.metrics import roc_auc_score\n",
    "import pandas as pd\n",
    "import numpy as np\n",
    "from sklearn.model_selection import train_test_split, GridSearchCV, KFold\n",
    "from sklearn.metrics import roc_auc_score\n",
    "from sklearn.neural_network import MLPClassifier\n",
    "\n"
   ]
  },
  {
   "cell_type": "code",
   "execution_count": 4,
   "id": "2ae1c4b1-7b97-436f-b982-77805e8e5658",
   "metadata": {},
   "outputs": [
    {
     "name": "stdout",
     "output_type": "stream",
     "text": [
      "1\n"
     ]
    }
   ],
   "source": [
    "url = 'https://drive.google.com/file/d/1E9bFoMAwMVPMkZHmMQfWvSgaWoCLtKp4/view?usp=share_link'\n",
    "url = 'https://drive.google.com/uc?id=' + url.split('/')[-2]\n",
    "y_test_autoencoder = pd.read_pickle(url)\n",
    "\n",
    "url = 'https://drive.google.com/file/d/1dknbQLJhQsbSFDNIpwjxZQwPc3fF14yF/view?usp=share_link'\n",
    "url = 'https://drive.google.com/uc?id=' + url.split('/')[-2]\n",
    "y_train_autoencoder = pd.read_pickle(url)\n",
    "\n",
    "\n",
    "url = 'https://drive.google.com/file/d/105vmXogIQU8srmtdzfCHYQ9G-T7Iu5hl/view?usp=share_link'\n",
    "url = 'https://drive.google.com/uc?id=' + url.split('/')[-2]\n",
    "X_test_autoencoder = pd.read_pickle(url)\n",
    "\n",
    "url = 'https://drive.google.com/file/d/1QemU274E0c14R8uknuipP20rNgDSLzcg/view?usp=share_link'\n",
    "url = 'https://drive.google.com/uc?id=' + url.split('/')[-2]\n",
    "X_train_autoencoder = pd.read_pickle(url)\n",
    "\n",
    "print('1')\n",
    "\n"
   ]
  },
  {
   "cell_type": "code",
   "execution_count": 5,
   "id": "a59ca195-750f-4b7b-a220-9577172f34ae",
   "metadata": {},
   "outputs": [
    {
     "data": {
      "text/plain": [
       "(103495,)"
      ]
     },
     "execution_count": 5,
     "metadata": {},
     "output_type": "execute_result"
    }
   ],
   "source": [
    "y_test_autoencoder.shape"
   ]
  },
  {
   "cell_type": "code",
   "execution_count": 6,
   "id": "4e372873-649c-47bd-a2bd-b495768973c5",
   "metadata": {},
   "outputs": [
    {
     "data": {
      "text/plain": [
       "(796896,)"
      ]
     },
     "execution_count": 6,
     "metadata": {},
     "output_type": "execute_result"
    }
   ],
   "source": [
    "y_train_autoencoder.shape"
   ]
  },
  {
   "cell_type": "code",
   "execution_count": 7,
   "id": "f59a31e2-6c68-4d8e-847f-27c0b0d1f225",
   "metadata": {},
   "outputs": [
    {
     "data": {
      "text/html": [
       "<div>\n",
       "<style scoped>\n",
       "    .dataframe tbody tr th:only-of-type {\n",
       "        vertical-align: middle;\n",
       "    }\n",
       "\n",
       "    .dataframe tbody tr th {\n",
       "        vertical-align: top;\n",
       "    }\n",
       "\n",
       "    .dataframe thead th {\n",
       "        text-align: right;\n",
       "    }\n",
       "</style>\n",
       "<table border=\"1\" class=\"dataframe\">\n",
       "  <thead>\n",
       "    <tr style=\"text-align: right;\">\n",
       "      <th></th>\n",
       "      <th>0</th>\n",
       "      <th>1</th>\n",
       "      <th>2</th>\n",
       "      <th>3</th>\n",
       "      <th>4</th>\n",
       "      <th>5</th>\n",
       "      <th>6</th>\n",
       "      <th>7</th>\n",
       "      <th>8</th>\n",
       "      <th>9</th>\n",
       "    </tr>\n",
       "  </thead>\n",
       "  <tbody>\n",
       "    <tr>\n",
       "      <th>0</th>\n",
       "      <td>12.402391</td>\n",
       "      <td>14.111757</td>\n",
       "      <td>9.855756</td>\n",
       "      <td>19.268991</td>\n",
       "      <td>5.220062</td>\n",
       "      <td>5.571196</td>\n",
       "      <td>0.000000</td>\n",
       "      <td>11.383184</td>\n",
       "      <td>1.007749</td>\n",
       "      <td>4.936933</td>\n",
       "    </tr>\n",
       "    <tr>\n",
       "      <th>1</th>\n",
       "      <td>4.612013</td>\n",
       "      <td>4.935200</td>\n",
       "      <td>7.515782</td>\n",
       "      <td>0.953602</td>\n",
       "      <td>13.012198</td>\n",
       "      <td>13.453751</td>\n",
       "      <td>8.786350</td>\n",
       "      <td>5.749897</td>\n",
       "      <td>2.933392</td>\n",
       "      <td>6.159844</td>\n",
       "    </tr>\n",
       "    <tr>\n",
       "      <th>2</th>\n",
       "      <td>7.377332</td>\n",
       "      <td>11.539225</td>\n",
       "      <td>3.783570</td>\n",
       "      <td>2.553127</td>\n",
       "      <td>3.887723</td>\n",
       "      <td>10.602369</td>\n",
       "      <td>1.870071</td>\n",
       "      <td>2.259041</td>\n",
       "      <td>5.891182</td>\n",
       "      <td>7.863156</td>\n",
       "    </tr>\n",
       "    <tr>\n",
       "      <th>3</th>\n",
       "      <td>5.857890</td>\n",
       "      <td>7.766523</td>\n",
       "      <td>3.677555</td>\n",
       "      <td>1.562993</td>\n",
       "      <td>5.219331</td>\n",
       "      <td>11.775371</td>\n",
       "      <td>6.793038</td>\n",
       "      <td>4.803222</td>\n",
       "      <td>2.995486</td>\n",
       "      <td>5.428815</td>\n",
       "    </tr>\n",
       "    <tr>\n",
       "      <th>4</th>\n",
       "      <td>9.456554</td>\n",
       "      <td>11.459286</td>\n",
       "      <td>17.851839</td>\n",
       "      <td>22.885075</td>\n",
       "      <td>16.009602</td>\n",
       "      <td>5.394529</td>\n",
       "      <td>0.000000</td>\n",
       "      <td>10.993926</td>\n",
       "      <td>6.987707</td>\n",
       "      <td>6.111645</td>\n",
       "    </tr>\n",
       "  </tbody>\n",
       "</table>\n",
       "</div>"
      ],
      "text/plain": [
       "           0          1          2          3          4          5         6  \\\n",
       "0  12.402391  14.111757   9.855756  19.268991   5.220062   5.571196  0.000000   \n",
       "1   4.612013   4.935200   7.515782   0.953602  13.012198  13.453751  8.786350   \n",
       "2   7.377332  11.539225   3.783570   2.553127   3.887723  10.602369  1.870071   \n",
       "3   5.857890   7.766523   3.677555   1.562993   5.219331  11.775371  6.793038   \n",
       "4   9.456554  11.459286  17.851839  22.885075  16.009602   5.394529  0.000000   \n",
       "\n",
       "           7         8         9  \n",
       "0  11.383184  1.007749  4.936933  \n",
       "1   5.749897  2.933392  6.159844  \n",
       "2   2.259041  5.891182  7.863156  \n",
       "3   4.803222  2.995486  5.428815  \n",
       "4  10.993926  6.987707  6.111645  "
      ]
     },
     "execution_count": 7,
     "metadata": {},
     "output_type": "execute_result"
    }
   ],
   "source": [
    "X_test_autoencoder.head()"
   ]
  },
  {
   "cell_type": "code",
   "execution_count": 8,
   "id": "7a525aef-d782-4bc3-9d43-6e8750c4a69d",
   "metadata": {},
   "outputs": [
    {
     "data": {
      "text/html": [
       "<div>\n",
       "<style scoped>\n",
       "    .dataframe tbody tr th:only-of-type {\n",
       "        vertical-align: middle;\n",
       "    }\n",
       "\n",
       "    .dataframe tbody tr th {\n",
       "        vertical-align: top;\n",
       "    }\n",
       "\n",
       "    .dataframe thead th {\n",
       "        text-align: right;\n",
       "    }\n",
       "</style>\n",
       "<table border=\"1\" class=\"dataframe\">\n",
       "  <thead>\n",
       "    <tr style=\"text-align: right;\">\n",
       "      <th></th>\n",
       "      <th>0</th>\n",
       "      <th>1</th>\n",
       "      <th>2</th>\n",
       "      <th>3</th>\n",
       "      <th>4</th>\n",
       "      <th>5</th>\n",
       "      <th>6</th>\n",
       "      <th>7</th>\n",
       "      <th>8</th>\n",
       "      <th>9</th>\n",
       "    </tr>\n",
       "  </thead>\n",
       "  <tbody>\n",
       "    <tr>\n",
       "      <th>0</th>\n",
       "      <td>4.797675</td>\n",
       "      <td>7.613662</td>\n",
       "      <td>3.424433</td>\n",
       "      <td>0.890239</td>\n",
       "      <td>2.669715</td>\n",
       "      <td>11.703793</td>\n",
       "      <td>6.787732</td>\n",
       "      <td>4.545719</td>\n",
       "      <td>3.268740</td>\n",
       "      <td>6.372485</td>\n",
       "    </tr>\n",
       "    <tr>\n",
       "      <th>1</th>\n",
       "      <td>7.937324</td>\n",
       "      <td>5.636225</td>\n",
       "      <td>6.277394</td>\n",
       "      <td>3.072316</td>\n",
       "      <td>2.182857</td>\n",
       "      <td>19.101315</td>\n",
       "      <td>12.539018</td>\n",
       "      <td>9.285725</td>\n",
       "      <td>3.117785</td>\n",
       "      <td>6.788941</td>\n",
       "    </tr>\n",
       "    <tr>\n",
       "      <th>2</th>\n",
       "      <td>6.025184</td>\n",
       "      <td>6.660750</td>\n",
       "      <td>4.287274</td>\n",
       "      <td>1.600477</td>\n",
       "      <td>5.272965</td>\n",
       "      <td>13.708441</td>\n",
       "      <td>8.960558</td>\n",
       "      <td>6.235799</td>\n",
       "      <td>2.528111</td>\n",
       "      <td>5.360302</td>\n",
       "    </tr>\n",
       "    <tr>\n",
       "      <th>3</th>\n",
       "      <td>6.662344</td>\n",
       "      <td>8.159066</td>\n",
       "      <td>7.697234</td>\n",
       "      <td>1.561853</td>\n",
       "      <td>20.870443</td>\n",
       "      <td>8.352842</td>\n",
       "      <td>2.124194</td>\n",
       "      <td>2.122555</td>\n",
       "      <td>5.134689</td>\n",
       "      <td>5.772576</td>\n",
       "    </tr>\n",
       "    <tr>\n",
       "      <th>4</th>\n",
       "      <td>5.559582</td>\n",
       "      <td>6.136704</td>\n",
       "      <td>6.856173</td>\n",
       "      <td>2.790976</td>\n",
       "      <td>3.218834</td>\n",
       "      <td>18.821775</td>\n",
       "      <td>12.625456</td>\n",
       "      <td>8.546290</td>\n",
       "      <td>1.763956</td>\n",
       "      <td>6.631335</td>\n",
       "    </tr>\n",
       "  </tbody>\n",
       "</table>\n",
       "</div>"
      ],
      "text/plain": [
       "          0         1         2         3          4          5          6  \\\n",
       "0  4.797675  7.613662  3.424433  0.890239   2.669715  11.703793   6.787732   \n",
       "1  7.937324  5.636225  6.277394  3.072316   2.182857  19.101315  12.539018   \n",
       "2  6.025184  6.660750  4.287274  1.600477   5.272965  13.708441   8.960558   \n",
       "3  6.662344  8.159066  7.697234  1.561853  20.870443   8.352842   2.124194   \n",
       "4  5.559582  6.136704  6.856173  2.790976   3.218834  18.821775  12.625456   \n",
       "\n",
       "          7         8         9  \n",
       "0  4.545719  3.268740  6.372485  \n",
       "1  9.285725  3.117785  6.788941  \n",
       "2  6.235799  2.528111  5.360302  \n",
       "3  2.122555  5.134689  5.772576  \n",
       "4  8.546290  1.763956  6.631335  "
      ]
     },
     "execution_count": 8,
     "metadata": {},
     "output_type": "execute_result"
    }
   ],
   "source": [
    "X_train_autoencoder.head()"
   ]
  },
  {
   "cell_type": "code",
   "execution_count": 10,
   "id": "0ee0ac30-8a89-48bc-a39e-c6e77caffaf1",
   "metadata": {},
   "outputs": [
    {
     "name": "stdout",
     "output_type": "stream",
     "text": [
      "Best parameters:  {'activation': 'tanh', 'alpha': 0.001, 'hidden_layer_sizes': (100,)}\n",
      "AUC score:  0.9999833735918736\n"
     ]
    }
   ],
   "source": [
    "\n",
    "# Define neural network classifier\n",
    "clf = MLPClassifier()\n",
    "\n",
    "# Define hyperparameters grid for grid search\n",
    "param_grid = {\n",
    "    'hidden_layer_sizes': [(50,), (100,), (150,)],\n",
    "    'activation': ['relu', 'tanh', 'logistic'],\n",
    "    'alpha': [0.0001, 0.001, 0.01],\n",
    "}\n",
    "\n",
    "# Define cross-validation strategy\n",
    "cv = StratifiedKFold(n_splits=3, shuffle=True, random_state=42)\n",
    "\n",
    "# Define scoring metric as AUC\n",
    "scoring = 'roc_auc'\n",
    "\n",
    "# Perform grid search with cross-validation and AUC as the scoring metric\n",
    "grid_search = GridSearchCV(clf, param_grid=param_grid, scoring=scoring, cv=cv, n_jobs=-1)\n",
    "grid_search.fit(X_train_autoencoder, y_train_autoencoder)\n",
    "\n",
    "# Print best hyperparameters and AUC score\n",
    "print(\"Best parameters: \", grid_search.best_params_)\n",
    "print(\"AUC score: \", grid_search.best_score_)"
   ]
  },
  {
   "cell_type": "code",
   "execution_count": 23,
   "id": "8dab9add-8981-4075-af50-a6316dd79250",
   "metadata": {},
   "outputs": [],
   "source": [
    "#retrain the model by using all data\n",
    "nnet_retrain = MLPClassifier(activation='tanh',alpha=0.001,hidden_layer_sizes=(100,))\n",
    "nnet_retrain.fit(X_train_autoencoder, y_train_autoencoder)\n",
    "yhat_test = nnet_retrain.predict(X_test_autoencoder)"
   ]
  },
  {
   "cell_type": "code",
   "execution_count": 26,
   "id": "a8800484-dd44-49d3-8c27-8e9209aea98c",
   "metadata": {},
   "outputs": [
    {
     "name": "stdout",
     "output_type": "stream",
     "text": [
      "ROC AUC for Neural Network in test dataset : 0.9953\n"
     ]
    }
   ],
   "source": [
    "#AUC performance in test set\n",
    "ROC_AUC_nnet = roc_auc_score(y_test_autoencoder, yhat_test)\n",
    "print('ROC AUC for Neural Network in test dataset : {:.4f}'.format(ROC_AUC_nnet))"
   ]
  },
  {
   "cell_type": "code",
   "execution_count": 31,
   "id": "ecbaa13c-6fa4-47d2-913f-8c05cc845d67",
   "metadata": {},
   "outputs": [
    {
     "data": {
      "text/html": [
       "<style>#sk-container-id-1 {color: black;background-color: white;}#sk-container-id-1 pre{padding: 0;}#sk-container-id-1 div.sk-toggleable {background-color: white;}#sk-container-id-1 label.sk-toggleable__label {cursor: pointer;display: block;width: 100%;margin-bottom: 0;padding: 0.3em;box-sizing: border-box;text-align: center;}#sk-container-id-1 label.sk-toggleable__label-arrow:before {content: \"▸\";float: left;margin-right: 0.25em;color: #696969;}#sk-container-id-1 label.sk-toggleable__label-arrow:hover:before {color: black;}#sk-container-id-1 div.sk-estimator:hover label.sk-toggleable__label-arrow:before {color: black;}#sk-container-id-1 div.sk-toggleable__content {max-height: 0;max-width: 0;overflow: hidden;text-align: left;background-color: #f0f8ff;}#sk-container-id-1 div.sk-toggleable__content pre {margin: 0.2em;color: black;border-radius: 0.25em;background-color: #f0f8ff;}#sk-container-id-1 input.sk-toggleable__control:checked~div.sk-toggleable__content {max-height: 200px;max-width: 100%;overflow: auto;}#sk-container-id-1 input.sk-toggleable__control:checked~label.sk-toggleable__label-arrow:before {content: \"▾\";}#sk-container-id-1 div.sk-estimator input.sk-toggleable__control:checked~label.sk-toggleable__label {background-color: #d4ebff;}#sk-container-id-1 div.sk-label input.sk-toggleable__control:checked~label.sk-toggleable__label {background-color: #d4ebff;}#sk-container-id-1 input.sk-hidden--visually {border: 0;clip: rect(1px 1px 1px 1px);clip: rect(1px, 1px, 1px, 1px);height: 1px;margin: -1px;overflow: hidden;padding: 0;position: absolute;width: 1px;}#sk-container-id-1 div.sk-estimator {font-family: monospace;background-color: #f0f8ff;border: 1px dotted black;border-radius: 0.25em;box-sizing: border-box;margin-bottom: 0.5em;}#sk-container-id-1 div.sk-estimator:hover {background-color: #d4ebff;}#sk-container-id-1 div.sk-parallel-item::after {content: \"\";width: 100%;border-bottom: 1px solid gray;flex-grow: 1;}#sk-container-id-1 div.sk-label:hover label.sk-toggleable__label {background-color: #d4ebff;}#sk-container-id-1 div.sk-serial::before {content: \"\";position: absolute;border-left: 1px solid gray;box-sizing: border-box;top: 0;bottom: 0;left: 50%;z-index: 0;}#sk-container-id-1 div.sk-serial {display: flex;flex-direction: column;align-items: center;background-color: white;padding-right: 0.2em;padding-left: 0.2em;position: relative;}#sk-container-id-1 div.sk-item {position: relative;z-index: 1;}#sk-container-id-1 div.sk-parallel {display: flex;align-items: stretch;justify-content: center;background-color: white;position: relative;}#sk-container-id-1 div.sk-item::before, #sk-container-id-1 div.sk-parallel-item::before {content: \"\";position: absolute;border-left: 1px solid gray;box-sizing: border-box;top: 0;bottom: 0;left: 50%;z-index: -1;}#sk-container-id-1 div.sk-parallel-item {display: flex;flex-direction: column;z-index: 1;position: relative;background-color: white;}#sk-container-id-1 div.sk-parallel-item:first-child::after {align-self: flex-end;width: 50%;}#sk-container-id-1 div.sk-parallel-item:last-child::after {align-self: flex-start;width: 50%;}#sk-container-id-1 div.sk-parallel-item:only-child::after {width: 0;}#sk-container-id-1 div.sk-dashed-wrapped {border: 1px dashed gray;margin: 0 0.4em 0.5em 0.4em;box-sizing: border-box;padding-bottom: 0.4em;background-color: white;}#sk-container-id-1 div.sk-label label {font-family: monospace;font-weight: bold;display: inline-block;line-height: 1.2em;}#sk-container-id-1 div.sk-label-container {text-align: center;}#sk-container-id-1 div.sk-container {/* jupyter's `normalize.less` sets `[hidden] { display: none; }` but bootstrap.min.css set `[hidden] { display: none !important; }` so we also need the `!important` here to be able to override the default hidden behavior on the sphinx rendered scikit-learn.org. See: https://github.com/scikit-learn/scikit-learn/issues/21755 */display: inline-block !important;position: relative;}#sk-container-id-1 div.sk-text-repr-fallback {display: none;}</style><div id=\"sk-container-id-1\" class=\"sk-top-container\"><div class=\"sk-text-repr-fallback\"><pre>MLPClassifier(activation=&#x27;tanh&#x27;, alpha=0.001)</pre><b>In a Jupyter environment, please rerun this cell to show the HTML representation or trust the notebook. <br />On GitHub, the HTML representation is unable to render, please try loading this page with nbviewer.org.</b></div><div class=\"sk-container\" hidden><div class=\"sk-item\"><div class=\"sk-estimator sk-toggleable\"><input class=\"sk-toggleable__control sk-hidden--visually\" id=\"sk-estimator-id-1\" type=\"checkbox\" checked><label for=\"sk-estimator-id-1\" class=\"sk-toggleable__label sk-toggleable__label-arrow\">MLPClassifier</label><div class=\"sk-toggleable__content\"><pre>MLPClassifier(activation=&#x27;tanh&#x27;, alpha=0.001)</pre></div></div></div></div></div>"
      ],
      "text/plain": [
       "MLPClassifier(activation='tanh', alpha=0.001)"
      ]
     },
     "execution_count": 31,
     "metadata": {},
     "output_type": "execute_result"
    }
   ],
   "source": [
    "nnet_retrain"
   ]
  },
  {
   "cell_type": "code",
   "execution_count": 32,
   "id": "e8544c3a-a557-49de-9dd2-654e42423186",
   "metadata": {},
   "outputs": [],
   "source": [
    "import pickle"
   ]
  },
  {
   "cell_type": "code",
   "execution_count": 34,
   "id": "0717f940-4fb5-4757-8bdb-357cb0485fe9",
   "metadata": {},
   "outputs": [],
   "source": [
    "#convert to pickle file for latter running\n",
    "pickle.dump(nnet_retrain, open('NeuralNetworkModel.pkl', 'wb'))"
   ]
  },
  {
   "cell_type": "code",
   "execution_count": 35,
   "id": "f1799f69-4070-4f92-9b73-b69e3cccc565",
   "metadata": {},
   "outputs": [],
   "source": [
    "# Load the model from the pickle file\n",
    "with open('NeuralNetworkModel.pkl', 'rb') as f:\n",
    "    model = pickle.load(f)"
   ]
  },
  {
   "cell_type": "code",
   "execution_count": 36,
   "id": "017722bc-1ad1-4f03-9ccf-1acafe9e94cf",
   "metadata": {},
   "outputs": [
    {
     "data": {
      "text/html": [
       "<style>#sk-container-id-2 {color: black;background-color: white;}#sk-container-id-2 pre{padding: 0;}#sk-container-id-2 div.sk-toggleable {background-color: white;}#sk-container-id-2 label.sk-toggleable__label {cursor: pointer;display: block;width: 100%;margin-bottom: 0;padding: 0.3em;box-sizing: border-box;text-align: center;}#sk-container-id-2 label.sk-toggleable__label-arrow:before {content: \"▸\";float: left;margin-right: 0.25em;color: #696969;}#sk-container-id-2 label.sk-toggleable__label-arrow:hover:before {color: black;}#sk-container-id-2 div.sk-estimator:hover label.sk-toggleable__label-arrow:before {color: black;}#sk-container-id-2 div.sk-toggleable__content {max-height: 0;max-width: 0;overflow: hidden;text-align: left;background-color: #f0f8ff;}#sk-container-id-2 div.sk-toggleable__content pre {margin: 0.2em;color: black;border-radius: 0.25em;background-color: #f0f8ff;}#sk-container-id-2 input.sk-toggleable__control:checked~div.sk-toggleable__content {max-height: 200px;max-width: 100%;overflow: auto;}#sk-container-id-2 input.sk-toggleable__control:checked~label.sk-toggleable__label-arrow:before {content: \"▾\";}#sk-container-id-2 div.sk-estimator input.sk-toggleable__control:checked~label.sk-toggleable__label {background-color: #d4ebff;}#sk-container-id-2 div.sk-label input.sk-toggleable__control:checked~label.sk-toggleable__label {background-color: #d4ebff;}#sk-container-id-2 input.sk-hidden--visually {border: 0;clip: rect(1px 1px 1px 1px);clip: rect(1px, 1px, 1px, 1px);height: 1px;margin: -1px;overflow: hidden;padding: 0;position: absolute;width: 1px;}#sk-container-id-2 div.sk-estimator {font-family: monospace;background-color: #f0f8ff;border: 1px dotted black;border-radius: 0.25em;box-sizing: border-box;margin-bottom: 0.5em;}#sk-container-id-2 div.sk-estimator:hover {background-color: #d4ebff;}#sk-container-id-2 div.sk-parallel-item::after {content: \"\";width: 100%;border-bottom: 1px solid gray;flex-grow: 1;}#sk-container-id-2 div.sk-label:hover label.sk-toggleable__label {background-color: #d4ebff;}#sk-container-id-2 div.sk-serial::before {content: \"\";position: absolute;border-left: 1px solid gray;box-sizing: border-box;top: 0;bottom: 0;left: 50%;z-index: 0;}#sk-container-id-2 div.sk-serial {display: flex;flex-direction: column;align-items: center;background-color: white;padding-right: 0.2em;padding-left: 0.2em;position: relative;}#sk-container-id-2 div.sk-item {position: relative;z-index: 1;}#sk-container-id-2 div.sk-parallel {display: flex;align-items: stretch;justify-content: center;background-color: white;position: relative;}#sk-container-id-2 div.sk-item::before, #sk-container-id-2 div.sk-parallel-item::before {content: \"\";position: absolute;border-left: 1px solid gray;box-sizing: border-box;top: 0;bottom: 0;left: 50%;z-index: -1;}#sk-container-id-2 div.sk-parallel-item {display: flex;flex-direction: column;z-index: 1;position: relative;background-color: white;}#sk-container-id-2 div.sk-parallel-item:first-child::after {align-self: flex-end;width: 50%;}#sk-container-id-2 div.sk-parallel-item:last-child::after {align-self: flex-start;width: 50%;}#sk-container-id-2 div.sk-parallel-item:only-child::after {width: 0;}#sk-container-id-2 div.sk-dashed-wrapped {border: 1px dashed gray;margin: 0 0.4em 0.5em 0.4em;box-sizing: border-box;padding-bottom: 0.4em;background-color: white;}#sk-container-id-2 div.sk-label label {font-family: monospace;font-weight: bold;display: inline-block;line-height: 1.2em;}#sk-container-id-2 div.sk-label-container {text-align: center;}#sk-container-id-2 div.sk-container {/* jupyter's `normalize.less` sets `[hidden] { display: none; }` but bootstrap.min.css set `[hidden] { display: none !important; }` so we also need the `!important` here to be able to override the default hidden behavior on the sphinx rendered scikit-learn.org. See: https://github.com/scikit-learn/scikit-learn/issues/21755 */display: inline-block !important;position: relative;}#sk-container-id-2 div.sk-text-repr-fallback {display: none;}</style><div id=\"sk-container-id-2\" class=\"sk-top-container\"><div class=\"sk-text-repr-fallback\"><pre>MLPClassifier(activation=&#x27;tanh&#x27;, alpha=0.001)</pre><b>In a Jupyter environment, please rerun this cell to show the HTML representation or trust the notebook. <br />On GitHub, the HTML representation is unable to render, please try loading this page with nbviewer.org.</b></div><div class=\"sk-container\" hidden><div class=\"sk-item\"><div class=\"sk-estimator sk-toggleable\"><input class=\"sk-toggleable__control sk-hidden--visually\" id=\"sk-estimator-id-2\" type=\"checkbox\" checked><label for=\"sk-estimator-id-2\" class=\"sk-toggleable__label sk-toggleable__label-arrow\">MLPClassifier</label><div class=\"sk-toggleable__content\"><pre>MLPClassifier(activation=&#x27;tanh&#x27;, alpha=0.001)</pre></div></div></div></div></div>"
      ],
      "text/plain": [
       "MLPClassifier(activation='tanh', alpha=0.001)"
      ]
     },
     "execution_count": 36,
     "metadata": {},
     "output_type": "execute_result"
    }
   ],
   "source": [
    "model"
   ]
  },
  {
   "cell_type": "code",
   "execution_count": 37,
   "id": "c1be0efc-659f-4a2d-b794-502a32e20d84",
   "metadata": {},
   "outputs": [
    {
     "name": "stdout",
     "output_type": "stream",
     "text": [
      "ROC AUC for Random Forest in test dataset : 0.9953\n"
     ]
    }
   ],
   "source": [
    "#testing chunk \n",
    "\n",
    "yhat_test_pickle = model.predict(X_test_autoencoder)\n",
    "\n",
    "ROC_AUC_ = roc_auc_score(y_test_autoencoder, yhat_test_pickle)\n",
    "\n",
    "print('ROC AUC for Random Forest in test dataset : {:.4f}'.format(ROC_AUC_randomFroest))"
   ]
  },
  {
   "cell_type": "code",
   "execution_count": null,
   "id": "1945e188-8f15-47bd-a511-38229b493897",
   "metadata": {},
   "outputs": [],
   "source": []
  }
 ],
 "metadata": {
  "kernelspec": {
   "display_name": "Python 3.10.6 64-bit",
   "language": "python",
   "name": "python3"
  },
  "language_info": {
   "codemirror_mode": {
    "name": "ipython",
    "version": 3
   },
   "file_extension": ".py",
   "mimetype": "text/x-python",
   "name": "python",
   "nbconvert_exporter": "python",
   "pygments_lexer": "ipython3",
   "version": "3.10.6"
  },
  "vscode": {
   "interpreter": {
    "hash": "31f2aee4e71d21fbe5cf8b01ff0e069b9275f58929596ceb00d14d90e3e16cd6"
   }
  }
 },
 "nbformat": 4,
 "nbformat_minor": 5
}
