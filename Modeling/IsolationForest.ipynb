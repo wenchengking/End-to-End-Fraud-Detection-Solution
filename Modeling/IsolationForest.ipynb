{
 "cells": [
  {
   "cell_type": "code",
   "execution_count": 4,
   "id": "3e3c79da-6a2d-4011-a114-e36fc05779d9",
   "metadata": {},
   "outputs": [
    {
     "name": "stderr",
     "output_type": "stream",
     "text": [
      "2023-03-08 17:56:46.364246: I tensorflow/core/platform/cpu_feature_guard.cc:193] This TensorFlow binary is optimized with oneAPI Deep Neural Network Library (oneDNN) to use the following CPU instructions in performance-critical operations:  AVX2 FMA\n",
      "To enable them in other operations, rebuild TensorFlow with the appropriate compiler flags.\n",
      "2023-03-08 17:56:46.490136: W tensorflow/compiler/xla/stream_executor/platform/default/dso_loader.cc:64] Could not load dynamic library 'libcudart.so.11.0'; dlerror: libcudart.so.11.0: cannot open shared object file: No such file or directory\n",
      "2023-03-08 17:56:46.490168: I tensorflow/compiler/xla/stream_executor/cuda/cudart_stub.cc:29] Ignore above cudart dlerror if you do not have a GPU set up on your machine.\n",
      "2023-03-08 17:56:47.498520: W tensorflow/compiler/xla/stream_executor/platform/default/dso_loader.cc:64] Could not load dynamic library 'libnvinfer.so.7'; dlerror: libnvinfer.so.7: cannot open shared object file: No such file or directory\n",
      "2023-03-08 17:56:47.498607: W tensorflow/compiler/xla/stream_executor/platform/default/dso_loader.cc:64] Could not load dynamic library 'libnvinfer_plugin.so.7'; dlerror: libnvinfer_plugin.so.7: cannot open shared object file: No such file or directory\n",
      "2023-03-08 17:56:47.498615: W tensorflow/compiler/tf2tensorrt/utils/py_utils.cc:38] TF-TRT Warning: Cannot dlopen some TensorRT libraries. If you would like to use Nvidia GPU with TensorRT, please make sure the missing libraries mentioned above are installed properly.\n"
     ]
    }
   ],
   "source": [
    "# Libraries Loading\n",
    "import pickle\n",
    "import zipfile\n",
    "\n",
    "import matplotlib.pyplot as plt\n",
    "import numpy as np\n",
    "import pandas as pd\n",
    "import seaborn as sns\n",
    "import statsmodels.api as sm\n",
    "from keras.models import load_model\n",
    "from matplotlib.ticker import MaxNLocator\n",
    "from sklearn.decomposition import PCA\n",
    "from sklearn.ensemble import IsolationForest, RandomForestClassifier\n",
    "from sklearn.metrics import (average_precision_score, confusion_matrix,\n",
    "                             f1_score, get_scorer_names, log_loss, make_scorer,\n",
    "                             precision_score, recall_score, roc_auc_score)\n",
    "from sklearn.model_selection import (GridSearchCV, KFold, ShuffleSplit,\n",
    "                                     cross_val_score, train_test_split)"
   ]
  },
  {
   "cell_type": "code",
   "execution_count": 2,
   "id": "8b5d0ba9-796a-491d-813c-669c27da2d89",
   "metadata": {},
   "outputs": [
    {
     "name": "stdout",
     "output_type": "stream",
     "text": [
      "1\n"
     ]
    }
   ],
   "source": [
    "url = 'https://drive.google.com/file/d/1E9bFoMAwMVPMkZHmMQfWvSgaWoCLtKp4/view?usp=share_link'\n",
    "url = 'https://drive.google.com/uc?id=' + url.split('/')[-2]\n",
    "y_test_autoencoder = pd.read_pickle(url)\n",
    "\n",
    "url = 'https://drive.google.com/file/d/1dknbQLJhQsbSFDNIpwjxZQwPc3fF14yF/view?usp=share_link'\n",
    "url = 'https://drive.google.com/uc?id=' + url.split('/')[-2]\n",
    "y_train_autoencoder = pd.read_pickle(url)\n",
    "\n",
    "\n",
    "url = 'https://drive.google.com/file/d/105vmXogIQU8srmtdzfCHYQ9G-T7Iu5hl/view?usp=share_link'\n",
    "url = 'https://drive.google.com/uc?id=' + url.split('/')[-2]\n",
    "X_test_autoencoder = pd.read_pickle(url)\n",
    "\n",
    "url = 'https://drive.google.com/file/d/1QemU274E0c14R8uknuipP20rNgDSLzcg/view?usp=share_link'\n",
    "url = 'https://drive.google.com/uc?id=' + url.split('/')[-2]\n",
    "X_train_autoencoder = pd.read_pickle(url)\n",
    "\n",
    "print('1')"
   ]
  },
  {
   "cell_type": "code",
   "execution_count": 3,
   "id": "f978c4cd-17ee-4ef1-b9a0-32633b2dae48",
   "metadata": {},
   "outputs": [
    {
     "name": "stdout",
     "output_type": "stream",
     "text": [
      "(796896, 10)\n",
      "(103495, 10)\n",
      "(796896,)\n",
      "(103495,)\n"
     ]
    }
   ],
   "source": [
    "print(X_train_autoencoder.shape)\n",
    "print(X_test_autoencoder.shape)\n",
    "print(y_train_autoencoder.shape)\n",
    "print(y_test_autoencoder.shape)"
   ]
  },
  {
   "cell_type": "code",
   "execution_count": 7,
   "id": "2e07f1e8-eab3-4e9e-8156-b0c5b2ad4209",
   "metadata": {},
   "outputs": [
    {
     "name": "stdout",
     "output_type": "stream",
     "text": [
      "AUC: 0.493\n"
     ]
    }
   ],
   "source": [
    "X_train = X_train_autoencoder\n",
    "y_train = y_train_autoencoder\n",
    "clf = IsolationForest(n_estimators=50, max_samples =0.1,contamination=0.01)\n",
    "y_pred = clf.fit_predict(X_train)\n",
    "y_pred_binary = [1 if p == -1 else 0 for p in y_pred]\n",
    "y_pred_binary = np.array(y_pred_binary)\n",
    "auc = roc_auc_score(y_train, y_pred_binary)\n",
    "print('AUC: %.3f' % auc)"
   ]
  },
  {
   "cell_type": "code",
   "execution_count": 15,
   "id": "63d6b92b-e0eb-4acd-9aa3-9ef8d225cd60",
   "metadata": {},
   "outputs": [
    {
     "name": "stdout",
     "output_type": "stream",
     "text": [
      "AUC: 0.493\n",
      "AUC: 0.468\n",
      "AUC: 0.440\n",
      "AUC: 0.493\n",
      "AUC: 0.470\n",
      "AUC: 0.451\n",
      "AUC: 0.493\n",
      "AUC: 0.469\n",
      "AUC: 0.456\n",
      "AUC: 0.493\n",
      "AUC: 0.466\n",
      "AUC: 0.442\n",
      "AUC: 0.494\n",
      "AUC: 0.469\n",
      "AUC: 0.448\n",
      "AUC: 0.494\n",
      "AUC: 0.469\n",
      "AUC: 0.452\n",
      "AUC: 0.493\n",
      "AUC: 0.466\n",
      "AUC: 0.440\n",
      "AUC: 0.493\n",
      "AUC: 0.470\n",
      "AUC: 0.448\n",
      "AUC: 0.493\n",
      "AUC: 0.471\n",
      "AUC: 0.449\n",
      "AUC: 0.492\n",
      "AUC: 0.465\n",
      "AUC: 0.441\n",
      "AUC: 0.493\n",
      "AUC: 0.471\n",
      "AUC: 0.455\n",
      "AUC: 0.493\n",
      "AUC: 0.473\n",
      "AUC: 0.452\n",
      "AUC: 0.492\n",
      "AUC: 0.464\n",
      "AUC: 0.446\n",
      "AUC: 0.493\n",
      "AUC: 0.470\n",
      "AUC: 0.448\n",
      "AUC: 0.493\n",
      "AUC: 0.470\n",
      "AUC: 0.449\n",
      "AUC: 0.492\n",
      "AUC: 0.468\n",
      "AUC: 0.444\n",
      "AUC: 0.493\n",
      "AUC: 0.469\n",
      "AUC: 0.447\n",
      "AUC: 0.493\n",
      "AUC: 0.471\n",
      "AUC: 0.447\n",
      "AUC: 0.493\n",
      "AUC: 0.465\n",
      "AUC: 0.445\n",
      "AUC: 0.493\n",
      "AUC: 0.470\n",
      "AUC: 0.455\n",
      "AUC: 0.493\n",
      "AUC: 0.470\n",
      "AUC: 0.450\n",
      "AUC: 0.492\n",
      "AUC: 0.466\n",
      "AUC: 0.444\n",
      "AUC: 0.493\n",
      "AUC: 0.472\n",
      "AUC: 0.447\n",
      "AUC: 0.493\n",
      "AUC: 0.469\n",
      "AUC: 0.454\n",
      "AUC: 0.492\n",
      "AUC: 0.467\n",
      "AUC: 0.444\n",
      "AUC: 0.493\n",
      "AUC: 0.469\n",
      "AUC: 0.448\n",
      "AUC: 0.493\n",
      "AUC: 0.471\n",
      "AUC: 0.448\n"
     ]
    }
   ],
   "source": [
    "param_grid = {'n_estimators': [50,100, 150],\n",
    "              'max_samples': [0.1, 0.5, 0.9],\n",
    "              'contamination': [0.01, 0.05, 0.1]}\n",
    "best_params = {}\n",
    "best_auc = 0\n",
    "\n",
    "# split X_train using cv\n",
    "cv = ShuffleSplit(n_splits=3, test_size=0.33, random_state=42) # 3-fold cv with 3 repeats``\n",
    "for train_index, test_index in cv.split(X_train):\n",
    "    # using same split for each hyperparameter\n",
    "    X_train_cv, X_test_cv = X_train.iloc[train_index], X_train.iloc[test_index]\n",
    "    y_train_cv, y_test_cv = y_train.iloc[train_index], y_train.iloc[test_index]\n",
    "\n",
    "    # grid search\n",
    "    for n_estimators in param_grid['n_estimators']:\n",
    "        for max_samples in param_grid['max_samples']:\n",
    "            for contamination in param_grid['contamination']:\n",
    "                # fit model\n",
    "                clf = IsolationForest(n_estimators=n_estimators,\n",
    "                                max_samples=max_samples,\n",
    "                                contamination=contamination)\n",
    "                y_pred = clf.fit(X_train_cv)\n",
    "                y_pred =y_pred.predict(X_train_cv)\n",
    "                y_pred_binary = [1 if p == -1 else 0 for p in y_pred]\n",
    "                y_pred_binary = np.array(y_pred_binary)\n",
    "                auc = roc_auc_score(y_train_cv, y_pred_binary)\n",
    "                print('AUC: %.3f' % auc)\n",
    "\n",
    "                # update best params\n",
    "                if auc > best_auc:\n",
    "                    best_params['n_estimators'] = n_estimators\n",
    "                    best_params['contamination'] = contamination\n",
    "                    best_params['max_samples'] = max_samples\n",
    "                    best_auc = auc"
   ]
  },
  {
   "attachments": {},
   "cell_type": "markdown",
   "id": "905a6181",
   "metadata": {},
   "source": [
    "Start from the best parameters"
   ]
  },
  {
   "cell_type": "code",
   "execution_count": 37,
   "id": "9b49f3d8",
   "metadata": {},
   "outputs": [],
   "source": [
    "# keep a note to start from here\n",
    "best_params = {'n_estimators': 50, 'max_samples': 0.9, 'contamination': 0.01}"
   ]
  },
  {
   "cell_type": "code",
   "execution_count": 38,
   "id": "547140d9-c525-481e-814c-f70ca110484c",
   "metadata": {},
   "outputs": [
    {
     "data": {
      "text/html": [
       "<style>#sk-container-id-6 {color: black;background-color: white;}#sk-container-id-6 pre{padding: 0;}#sk-container-id-6 div.sk-toggleable {background-color: white;}#sk-container-id-6 label.sk-toggleable__label {cursor: pointer;display: block;width: 100%;margin-bottom: 0;padding: 0.3em;box-sizing: border-box;text-align: center;}#sk-container-id-6 label.sk-toggleable__label-arrow:before {content: \"▸\";float: left;margin-right: 0.25em;color: #696969;}#sk-container-id-6 label.sk-toggleable__label-arrow:hover:before {color: black;}#sk-container-id-6 div.sk-estimator:hover label.sk-toggleable__label-arrow:before {color: black;}#sk-container-id-6 div.sk-toggleable__content {max-height: 0;max-width: 0;overflow: hidden;text-align: left;background-color: #f0f8ff;}#sk-container-id-6 div.sk-toggleable__content pre {margin: 0.2em;color: black;border-radius: 0.25em;background-color: #f0f8ff;}#sk-container-id-6 input.sk-toggleable__control:checked~div.sk-toggleable__content {max-height: 200px;max-width: 100%;overflow: auto;}#sk-container-id-6 input.sk-toggleable__control:checked~label.sk-toggleable__label-arrow:before {content: \"▾\";}#sk-container-id-6 div.sk-estimator input.sk-toggleable__control:checked~label.sk-toggleable__label {background-color: #d4ebff;}#sk-container-id-6 div.sk-label input.sk-toggleable__control:checked~label.sk-toggleable__label {background-color: #d4ebff;}#sk-container-id-6 input.sk-hidden--visually {border: 0;clip: rect(1px 1px 1px 1px);clip: rect(1px, 1px, 1px, 1px);height: 1px;margin: -1px;overflow: hidden;padding: 0;position: absolute;width: 1px;}#sk-container-id-6 div.sk-estimator {font-family: monospace;background-color: #f0f8ff;border: 1px dotted black;border-radius: 0.25em;box-sizing: border-box;margin-bottom: 0.5em;}#sk-container-id-6 div.sk-estimator:hover {background-color: #d4ebff;}#sk-container-id-6 div.sk-parallel-item::after {content: \"\";width: 100%;border-bottom: 1px solid gray;flex-grow: 1;}#sk-container-id-6 div.sk-label:hover label.sk-toggleable__label {background-color: #d4ebff;}#sk-container-id-6 div.sk-serial::before {content: \"\";position: absolute;border-left: 1px solid gray;box-sizing: border-box;top: 0;bottom: 0;left: 50%;z-index: 0;}#sk-container-id-6 div.sk-serial {display: flex;flex-direction: column;align-items: center;background-color: white;padding-right: 0.2em;padding-left: 0.2em;position: relative;}#sk-container-id-6 div.sk-item {position: relative;z-index: 1;}#sk-container-id-6 div.sk-parallel {display: flex;align-items: stretch;justify-content: center;background-color: white;position: relative;}#sk-container-id-6 div.sk-item::before, #sk-container-id-6 div.sk-parallel-item::before {content: \"\";position: absolute;border-left: 1px solid gray;box-sizing: border-box;top: 0;bottom: 0;left: 50%;z-index: -1;}#sk-container-id-6 div.sk-parallel-item {display: flex;flex-direction: column;z-index: 1;position: relative;background-color: white;}#sk-container-id-6 div.sk-parallel-item:first-child::after {align-self: flex-end;width: 50%;}#sk-container-id-6 div.sk-parallel-item:last-child::after {align-self: flex-start;width: 50%;}#sk-container-id-6 div.sk-parallel-item:only-child::after {width: 0;}#sk-container-id-6 div.sk-dashed-wrapped {border: 1px dashed gray;margin: 0 0.4em 0.5em 0.4em;box-sizing: border-box;padding-bottom: 0.4em;background-color: white;}#sk-container-id-6 div.sk-label label {font-family: monospace;font-weight: bold;display: inline-block;line-height: 1.2em;}#sk-container-id-6 div.sk-label-container {text-align: center;}#sk-container-id-6 div.sk-container {/* jupyter's `normalize.less` sets `[hidden] { display: none; }` but bootstrap.min.css set `[hidden] { display: none !important; }` so we also need the `!important` here to be able to override the default hidden behavior on the sphinx rendered scikit-learn.org. See: https://github.com/scikit-learn/scikit-learn/issues/21755 */display: inline-block !important;position: relative;}#sk-container-id-6 div.sk-text-repr-fallback {display: none;}</style><div id=\"sk-container-id-6\" class=\"sk-top-container\"><div class=\"sk-text-repr-fallback\"><pre>IsolationForest(contamination=0.01, max_samples=0.9, n_estimators=50)</pre><b>In a Jupyter environment, please rerun this cell to show the HTML representation or trust the notebook. <br />On GitHub, the HTML representation is unable to render, please try loading this page with nbviewer.org.</b></div><div class=\"sk-container\" hidden><div class=\"sk-item\"><div class=\"sk-estimator sk-toggleable\"><input class=\"sk-toggleable__control sk-hidden--visually\" id=\"sk-estimator-id-6\" type=\"checkbox\" checked><label for=\"sk-estimator-id-6\" class=\"sk-toggleable__label sk-toggleable__label-arrow\">IsolationForest</label><div class=\"sk-toggleable__content\"><pre>IsolationForest(contamination=0.01, max_samples=0.9, n_estimators=50)</pre></div></div></div></div></div>"
      ],
      "text/plain": [
       "IsolationForest(contamination=0.01, max_samples=0.9, n_estimators=50)"
      ]
     },
     "execution_count": 38,
     "metadata": {},
     "output_type": "execute_result"
    }
   ],
   "source": [
    "# train the Isolation Forest model on the full training set with the best parameters\n",
    "isoforest = IsolationForest(n_estimators=best_params['n_estimators'],\n",
    "                            max_samples=best_params['max_samples'],\n",
    "                            contamination=best_params['contamination'])\n",
    "                            \n",
    "isoforest.fit(X_train_autoencoder)"
   ]
  },
  {
   "cell_type": "code",
   "execution_count": 43,
   "id": "a6fb33a1-9fa3-43fe-b6b9-1876fa2fa9ef",
   "metadata": {},
   "outputs": [
    {
     "name": "stdout",
     "output_type": "stream",
     "text": [
      "Test ROC AUC score: 0.5082760791734389\n"
     ]
    }
   ],
   "source": [
    "# evaluate the model on the test set\n",
    "y_pred = isoforest.predict(X_test_autoencoder)\n",
    "y_pred_binary = [1 if p == -1 else 0 for p in y_pred]\n",
    "roc_auc = roc_auc_score(y_test_autoencoder, y_pred_binary)\n",
    "print('Test ROC AUC score:', roc_auc)"
   ]
  },
  {
   "cell_type": "code",
   "execution_count": 49,
   "id": "f82a7871",
   "metadata": {},
   "outputs": [],
   "source": [
    "y_predicted = y_pred_binary\n",
    "y_test = y_test_autoencoder\n",
    "cm=confusion_matrix(y_test, y_predicted)\n",
    "TN, FP, FN, TP = cm.ravel()"
   ]
  },
  {
   "cell_type": "code",
   "execution_count": 50,
   "id": "2600637a",
   "metadata": {},
   "outputs": [
    {
     "name": "stdout",
     "output_type": "stream",
     "text": [
      "Test FPR: 0.017708532018913193\n",
      "Test FNR: 0.9657393096342092\n"
     ]
    }
   ],
   "source": [
    "# false positive rate\n",
    "FPR = FP/(FP+TN)\n",
    "# false negative rate\n",
    "FNR = FN/(FN+TP)\n",
    "print(f'Test FPR: {FPR}')\n",
    "print(f'Test FNR: {FNR}')"
   ]
  },
  {
   "cell_type": "code",
   "execution_count": 23,
   "id": "30c5b823-57d6-4aae-95b8-8cd967889a9f",
   "metadata": {},
   "outputs": [],
   "source": [
    "#convert to pickle file for latter running\n",
    "pickle.dump(isoforest, open('IsolationForest.pkl', 'wb'))"
   ]
  },
  {
   "cell_type": "code",
   "execution_count": 25,
   "id": "1c6c3b57-4cd0-4257-aa72-433147c86c4c",
   "metadata": {},
   "outputs": [],
   "source": [
    "# Load the model from the pickle file\n",
    "with open('IsolationForest.pkl', 'rb') as f:\n",
    "    model = pickle.load(f)"
   ]
  },
  {
   "cell_type": "code",
   "execution_count": 26,
   "id": "997276a9-3c43-424e-9105-8a0b412aaf8d",
   "metadata": {},
   "outputs": [
    {
     "data": {
      "text/html": [
       "<style>#sk-container-id-2 {color: black;background-color: white;}#sk-container-id-2 pre{padding: 0;}#sk-container-id-2 div.sk-toggleable {background-color: white;}#sk-container-id-2 label.sk-toggleable__label {cursor: pointer;display: block;width: 100%;margin-bottom: 0;padding: 0.3em;box-sizing: border-box;text-align: center;}#sk-container-id-2 label.sk-toggleable__label-arrow:before {content: \"▸\";float: left;margin-right: 0.25em;color: #696969;}#sk-container-id-2 label.sk-toggleable__label-arrow:hover:before {color: black;}#sk-container-id-2 div.sk-estimator:hover label.sk-toggleable__label-arrow:before {color: black;}#sk-container-id-2 div.sk-toggleable__content {max-height: 0;max-width: 0;overflow: hidden;text-align: left;background-color: #f0f8ff;}#sk-container-id-2 div.sk-toggleable__content pre {margin: 0.2em;color: black;border-radius: 0.25em;background-color: #f0f8ff;}#sk-container-id-2 input.sk-toggleable__control:checked~div.sk-toggleable__content {max-height: 200px;max-width: 100%;overflow: auto;}#sk-container-id-2 input.sk-toggleable__control:checked~label.sk-toggleable__label-arrow:before {content: \"▾\";}#sk-container-id-2 div.sk-estimator input.sk-toggleable__control:checked~label.sk-toggleable__label {background-color: #d4ebff;}#sk-container-id-2 div.sk-label input.sk-toggleable__control:checked~label.sk-toggleable__label {background-color: #d4ebff;}#sk-container-id-2 input.sk-hidden--visually {border: 0;clip: rect(1px 1px 1px 1px);clip: rect(1px, 1px, 1px, 1px);height: 1px;margin: -1px;overflow: hidden;padding: 0;position: absolute;width: 1px;}#sk-container-id-2 div.sk-estimator {font-family: monospace;background-color: #f0f8ff;border: 1px dotted black;border-radius: 0.25em;box-sizing: border-box;margin-bottom: 0.5em;}#sk-container-id-2 div.sk-estimator:hover {background-color: #d4ebff;}#sk-container-id-2 div.sk-parallel-item::after {content: \"\";width: 100%;border-bottom: 1px solid gray;flex-grow: 1;}#sk-container-id-2 div.sk-label:hover label.sk-toggleable__label {background-color: #d4ebff;}#sk-container-id-2 div.sk-serial::before {content: \"\";position: absolute;border-left: 1px solid gray;box-sizing: border-box;top: 0;bottom: 0;left: 50%;z-index: 0;}#sk-container-id-2 div.sk-serial {display: flex;flex-direction: column;align-items: center;background-color: white;padding-right: 0.2em;padding-left: 0.2em;position: relative;}#sk-container-id-2 div.sk-item {position: relative;z-index: 1;}#sk-container-id-2 div.sk-parallel {display: flex;align-items: stretch;justify-content: center;background-color: white;position: relative;}#sk-container-id-2 div.sk-item::before, #sk-container-id-2 div.sk-parallel-item::before {content: \"\";position: absolute;border-left: 1px solid gray;box-sizing: border-box;top: 0;bottom: 0;left: 50%;z-index: -1;}#sk-container-id-2 div.sk-parallel-item {display: flex;flex-direction: column;z-index: 1;position: relative;background-color: white;}#sk-container-id-2 div.sk-parallel-item:first-child::after {align-self: flex-end;width: 50%;}#sk-container-id-2 div.sk-parallel-item:last-child::after {align-self: flex-start;width: 50%;}#sk-container-id-2 div.sk-parallel-item:only-child::after {width: 0;}#sk-container-id-2 div.sk-dashed-wrapped {border: 1px dashed gray;margin: 0 0.4em 0.5em 0.4em;box-sizing: border-box;padding-bottom: 0.4em;background-color: white;}#sk-container-id-2 div.sk-label label {font-family: monospace;font-weight: bold;display: inline-block;line-height: 1.2em;}#sk-container-id-2 div.sk-label-container {text-align: center;}#sk-container-id-2 div.sk-container {/* jupyter's `normalize.less` sets `[hidden] { display: none; }` but bootstrap.min.css set `[hidden] { display: none !important; }` so we also need the `!important` here to be able to override the default hidden behavior on the sphinx rendered scikit-learn.org. See: https://github.com/scikit-learn/scikit-learn/issues/21755 */display: inline-block !important;position: relative;}#sk-container-id-2 div.sk-text-repr-fallback {display: none;}</style><div id=\"sk-container-id-2\" class=\"sk-top-container\"><div class=\"sk-text-repr-fallback\"><pre>IsolationForest(contamination=0.01, max_samples=0.9)</pre><b>In a Jupyter environment, please rerun this cell to show the HTML representation or trust the notebook. <br />On GitHub, the HTML representation is unable to render, please try loading this page with nbviewer.org.</b></div><div class=\"sk-container\" hidden><div class=\"sk-item\"><div class=\"sk-estimator sk-toggleable\"><input class=\"sk-toggleable__control sk-hidden--visually\" id=\"sk-estimator-id-2\" type=\"checkbox\" checked><label for=\"sk-estimator-id-2\" class=\"sk-toggleable__label sk-toggleable__label-arrow\">IsolationForest</label><div class=\"sk-toggleable__content\"><pre>IsolationForest(contamination=0.01, max_samples=0.9)</pre></div></div></div></div></div>"
      ],
      "text/plain": [
       "IsolationForest(contamination=0.01, max_samples=0.9)"
      ]
     },
     "execution_count": 26,
     "metadata": {},
     "output_type": "execute_result"
    }
   ],
   "source": [
    "model"
   ]
  }
 ],
 "metadata": {
  "kernelspec": {
   "display_name": "Python 3 (ipykernel)",
   "language": "python",
   "name": "python3"
  },
  "language_info": {
   "codemirror_mode": {
    "name": "ipython",
    "version": 3
   },
   "file_extension": ".py",
   "mimetype": "text/x-python",
   "name": "python",
   "nbconvert_exporter": "python",
   "pygments_lexer": "ipython3",
   "version": "3.10.6"
  }
 },
 "nbformat": 4,
 "nbformat_minor": 5
}
