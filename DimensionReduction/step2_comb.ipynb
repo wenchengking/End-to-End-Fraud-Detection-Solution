{
 "cells": [
  {
   "cell_type": "code",
   "execution_count": 1,
   "id": "226752cf",
   "metadata": {},
   "outputs": [],
   "source": [
    "# !pip install umap-learn\n",
    "# !pip install imblearn\n",
    "# !pip install xgboost\n",
    "# !pip install keras\n",
    "# !pip install tensorflow"
   ]
  },
  {
   "cell_type": "code",
   "execution_count": 1,
   "id": "f582e5d4",
   "metadata": {},
   "outputs": [
    {
     "name": "stderr",
     "output_type": "stream",
     "text": [
      "2023-03-09 04:15:22.123932: I tensorflow/core/platform/cpu_feature_guard.cc:193] This TensorFlow binary is optimized with oneAPI Deep Neural Network Library (oneDNN) to use the following CPU instructions in performance-critical operations:  AVX2 FMA\n",
      "To enable them in other operations, rebuild TensorFlow with the appropriate compiler flags.\n",
      "2023-03-09 04:15:22.270564: W tensorflow/compiler/xla/stream_executor/platform/default/dso_loader.cc:64] Could not load dynamic library 'libcudart.so.11.0'; dlerror: libcudart.so.11.0: cannot open shared object file: No such file or directory\n",
      "2023-03-09 04:15:22.270596: I tensorflow/compiler/xla/stream_executor/cuda/cudart_stub.cc:29] Ignore above cudart dlerror if you do not have a GPU set up on your machine.\n",
      "2023-03-09 04:15:23.327161: W tensorflow/compiler/xla/stream_executor/platform/default/dso_loader.cc:64] Could not load dynamic library 'libnvinfer.so.7'; dlerror: libnvinfer.so.7: cannot open shared object file: No such file or directory\n",
      "2023-03-09 04:15:23.327236: W tensorflow/compiler/xla/stream_executor/platform/default/dso_loader.cc:64] Could not load dynamic library 'libnvinfer_plugin.so.7'; dlerror: libnvinfer_plugin.so.7: cannot open shared object file: No such file or directory\n",
      "2023-03-09 04:15:23.327245: W tensorflow/compiler/tf2tensorrt/utils/py_utils.cc:38] TF-TRT Warning: Cannot dlopen some TensorRT libraries. If you would like to use Nvidia GPU with TensorRT, please make sure the missing libraries mentioned above are installed properly.\n",
      "/nfs/home/zle2435/.local/lib/python3.10/site-packages/tqdm/auto.py:21: TqdmWarning: IProgress not found. Please update jupyter and ipywidgets. See https://ipywidgets.readthedocs.io/en/stable/user_install.html\n",
      "  from .autonotebook import tqdm as notebook_tqdm\n"
     ]
    }
   ],
   "source": [
    "# Libraries\n",
    "import pickle\n",
    "import zipfile\n",
    "\n",
    "import keras\n",
    "import matplotlib.pyplot as plt\n",
    "import numpy as np\n",
    "import pandas as pd\n",
    "import pyarrow.parquet as pq\n",
    "#import plotly.express as px\n",
    "import seaborn as sns\n",
    "import statsmodels.api as sm\n",
    "import umap.umap_ as umap\n",
    "import xgboost as xgb\n",
    "from imblearn.over_sampling import SMOTE\n",
    "from keras.layers import Dense, Input\n",
    "from keras.models import Model\n",
    "from matplotlib.ticker import MaxNLocator\n",
    "from sklearn.decomposition import PCA\n",
    "from sklearn.ensemble import RandomForestClassifier\n",
    "from sklearn.manifold import TSNE\n",
    "from sklearn.metrics import (average_precision_score, confusion_matrix,\n",
    "                             f1_score, log_loss, mean_squared_error,\n",
    "                             precision_score, recall_score, roc_auc_score)\n",
    "#import sklearn as sklearn\n",
    "from sklearn.model_selection import (GridSearchCV, KFold, cross_val_score,\n",
    "                                     train_test_split)\n",
    "from sklearn.preprocessing import minmax_scale"
   ]
  },
  {
   "cell_type": "code",
   "execution_count": 2,
   "id": "093fae5b",
   "metadata": {},
   "outputs": [
    {
     "data": {
      "text/html": [
       "<div>\n",
       "<style scoped>\n",
       "    .dataframe tbody tr th:only-of-type {\n",
       "        vertical-align: middle;\n",
       "    }\n",
       "\n",
       "    .dataframe tbody tr th {\n",
       "        vertical-align: top;\n",
       "    }\n",
       "\n",
       "    .dataframe thead th {\n",
       "        text-align: right;\n",
       "    }\n",
       "</style>\n",
       "<table border=\"1\" class=\"dataframe\">\n",
       "  <thead>\n",
       "    <tr style=\"text-align: right;\">\n",
       "      <th></th>\n",
       "      <th>TransactionID</th>\n",
       "      <th>TransactionDT</th>\n",
       "      <th>isFraud</th>\n",
       "      <th>TransactionAmt</th>\n",
       "      <th>card1</th>\n",
       "      <th>card2</th>\n",
       "      <th>card3</th>\n",
       "      <th>card5</th>\n",
       "      <th>addr1</th>\n",
       "      <th>addr2</th>\n",
       "      <th>...</th>\n",
       "      <th>id_36_unknown</th>\n",
       "      <th>id_37_F</th>\n",
       "      <th>id_37_T</th>\n",
       "      <th>id_37_unknown</th>\n",
       "      <th>id_38_F</th>\n",
       "      <th>id_38_T</th>\n",
       "      <th>id_38_unknown</th>\n",
       "      <th>DeviceType_desktop</th>\n",
       "      <th>DeviceType_mobile</th>\n",
       "      <th>DeviceType_unknown</th>\n",
       "    </tr>\n",
       "  </thead>\n",
       "  <tbody>\n",
       "    <tr>\n",
       "      <th>0</th>\n",
       "      <td>2987000</td>\n",
       "      <td>86400</td>\n",
       "      <td>0</td>\n",
       "      <td>68.5</td>\n",
       "      <td>13926.0</td>\n",
       "      <td>0.0</td>\n",
       "      <td>150.0</td>\n",
       "      <td>142.0</td>\n",
       "      <td>315.0</td>\n",
       "      <td>87.0</td>\n",
       "      <td>...</td>\n",
       "      <td>1</td>\n",
       "      <td>0</td>\n",
       "      <td>0</td>\n",
       "      <td>1</td>\n",
       "      <td>0</td>\n",
       "      <td>0</td>\n",
       "      <td>1</td>\n",
       "      <td>0</td>\n",
       "      <td>0</td>\n",
       "      <td>1</td>\n",
       "    </tr>\n",
       "    <tr>\n",
       "      <th>1</th>\n",
       "      <td>2987001</td>\n",
       "      <td>86401</td>\n",
       "      <td>0</td>\n",
       "      <td>29.0</td>\n",
       "      <td>2755.0</td>\n",
       "      <td>404.0</td>\n",
       "      <td>150.0</td>\n",
       "      <td>102.0</td>\n",
       "      <td>325.0</td>\n",
       "      <td>87.0</td>\n",
       "      <td>...</td>\n",
       "      <td>1</td>\n",
       "      <td>0</td>\n",
       "      <td>0</td>\n",
       "      <td>1</td>\n",
       "      <td>0</td>\n",
       "      <td>0</td>\n",
       "      <td>1</td>\n",
       "      <td>0</td>\n",
       "      <td>0</td>\n",
       "      <td>1</td>\n",
       "    </tr>\n",
       "    <tr>\n",
       "      <th>2</th>\n",
       "      <td>2987004</td>\n",
       "      <td>86506</td>\n",
       "      <td>0</td>\n",
       "      <td>50.0</td>\n",
       "      <td>4497.0</td>\n",
       "      <td>514.0</td>\n",
       "      <td>150.0</td>\n",
       "      <td>102.0</td>\n",
       "      <td>420.0</td>\n",
       "      <td>87.0</td>\n",
       "      <td>...</td>\n",
       "      <td>0</td>\n",
       "      <td>0</td>\n",
       "      <td>1</td>\n",
       "      <td>0</td>\n",
       "      <td>0</td>\n",
       "      <td>1</td>\n",
       "      <td>0</td>\n",
       "      <td>0</td>\n",
       "      <td>1</td>\n",
       "      <td>0</td>\n",
       "    </tr>\n",
       "    <tr>\n",
       "      <th>3</th>\n",
       "      <td>2987006</td>\n",
       "      <td>86522</td>\n",
       "      <td>0</td>\n",
       "      <td>159.0</td>\n",
       "      <td>12308.0</td>\n",
       "      <td>360.0</td>\n",
       "      <td>150.0</td>\n",
       "      <td>166.0</td>\n",
       "      <td>126.0</td>\n",
       "      <td>87.0</td>\n",
       "      <td>...</td>\n",
       "      <td>1</td>\n",
       "      <td>0</td>\n",
       "      <td>0</td>\n",
       "      <td>1</td>\n",
       "      <td>0</td>\n",
       "      <td>0</td>\n",
       "      <td>1</td>\n",
       "      <td>0</td>\n",
       "      <td>0</td>\n",
       "      <td>1</td>\n",
       "    </tr>\n",
       "    <tr>\n",
       "      <th>4</th>\n",
       "      <td>2987007</td>\n",
       "      <td>86529</td>\n",
       "      <td>0</td>\n",
       "      <td>422.5</td>\n",
       "      <td>12695.0</td>\n",
       "      <td>490.0</td>\n",
       "      <td>150.0</td>\n",
       "      <td>226.0</td>\n",
       "      <td>325.0</td>\n",
       "      <td>87.0</td>\n",
       "      <td>...</td>\n",
       "      <td>1</td>\n",
       "      <td>0</td>\n",
       "      <td>0</td>\n",
       "      <td>1</td>\n",
       "      <td>0</td>\n",
       "      <td>0</td>\n",
       "      <td>1</td>\n",
       "      <td>0</td>\n",
       "      <td>0</td>\n",
       "      <td>1</td>\n",
       "    </tr>\n",
       "  </tbody>\n",
       "</table>\n",
       "<p>5 rows × 525 columns</p>\n",
       "</div>"
      ],
      "text/plain": [
       "   TransactionID  TransactionDT  isFraud  TransactionAmt    card1  card2  \\\n",
       "0        2987000          86400        0            68.5  13926.0    0.0   \n",
       "1        2987001          86401        0            29.0   2755.0  404.0   \n",
       "2        2987004          86506        0            50.0   4497.0  514.0   \n",
       "3        2987006          86522        0           159.0  12308.0  360.0   \n",
       "4        2987007          86529        0           422.5  12695.0  490.0   \n",
       "\n",
       "   card3  card5  addr1  addr2  ...  id_36_unknown  id_37_F  id_37_T  \\\n",
       "0  150.0  142.0  315.0   87.0  ...              1        0        0   \n",
       "1  150.0  102.0  325.0   87.0  ...              1        0        0   \n",
       "2  150.0  102.0  420.0   87.0  ...              0        0        1   \n",
       "3  150.0  166.0  126.0   87.0  ...              1        0        0   \n",
       "4  150.0  226.0  325.0   87.0  ...              1        0        0   \n",
       "\n",
       "   id_37_unknown  id_38_F  id_38_T  id_38_unknown  DeviceType_desktop  \\\n",
       "0              1        0        0              1                   0   \n",
       "1              1        0        0              1                   0   \n",
       "2              0        0        1              0                   0   \n",
       "3              1        0        0              1                   0   \n",
       "4              1        0        0              1                   0   \n",
       "\n",
       "   DeviceType_mobile  DeviceType_unknown  \n",
       "0                  0                   1  \n",
       "1                  0                   1  \n",
       "2                  1                   0  \n",
       "3                  0                   1  \n",
       "4                  0                   1  \n",
       "\n",
       "[5 rows x 525 columns]"
      ]
     },
     "execution_count": 2,
     "metadata": {},
     "output_type": "execute_result"
    }
   ],
   "source": [
    "df = pd.read_parquet('df_full_new.parquet', engine='pyarrow')\n",
    "df.head()"
   ]
  },
  {
   "cell_type": "code",
   "execution_count": 3,
   "id": "5a340bfe",
   "metadata": {},
   "outputs": [
    {
     "data": {
      "text/plain": [
       "524"
      ]
     },
     "execution_count": 3,
     "metadata": {},
     "output_type": "execute_result"
    }
   ],
   "source": [
    "# drop TransactionDT\n",
    "df.drop('TransactionDT', axis=1, inplace=True)\n",
    "df.shape[1]\n"
   ]
  },
  {
   "cell_type": "markdown",
   "id": "499f8662-3434-4ec4-a4c3-8622833110d4",
   "metadata": {},
   "source": [
    "## Train vs Test Splitting"
   ]
  },
  {
   "cell_type": "code",
   "execution_count": 4,
   "id": "991f7f6b-1aef-4a99-9b0d-642efe456d67",
   "metadata": {},
   "outputs": [],
   "source": [
    "# define the feature and target variables\n",
    "X = df.drop('isFraud', axis=1)\n",
    "Y = df.isFraud  \n",
    "\n",
    "# split the data into training and testing sets, stratifying on the target variable\n",
    "X_train, X_test, y_train, y_test = train_test_split(df, Y, test_size=0.2, stratify=Y, random_state=42)"
   ]
  },
  {
   "cell_type": "code",
   "execution_count": 5,
   "id": "e7746538-25a5-4258-bf7f-98544e4b9af2",
   "metadata": {},
   "outputs": [
    {
     "data": {
      "text/plain": [
       "0    398448\n",
       "1     15529\n",
       "Name: isFraud, dtype: int64"
      ]
     },
     "execution_count": 5,
     "metadata": {},
     "output_type": "execute_result"
    }
   ],
   "source": [
    "y_train.value_counts()"
   ]
  },
  {
   "cell_type": "markdown",
   "id": "5f067dcf-da1a-4e64-88b6-d890299148d8",
   "metadata": {},
   "source": [
    "## SMOTE"
   ]
  },
  {
   "cell_type": "code",
   "execution_count": 6,
   "id": "a63190e7-28c7-40e2-8e71-b7a834af4d01",
   "metadata": {},
   "outputs": [],
   "source": [
    "# create the SMOTE object\n",
    "smote = SMOTE(sampling_strategy='auto')"
   ]
  },
  {
   "cell_type": "code",
   "execution_count": 7,
   "id": "cef5b1b1-9226-46e5-9205-de0257b2cf6f",
   "metadata": {},
   "outputs": [],
   "source": [
    "# resample the data using SMOTE\n",
    "X_train_resampled, y_train_resampled = smote.fit_resample(X_train, y_train)"
   ]
  },
  {
   "cell_type": "markdown",
   "id": "5d1a32bc",
   "metadata": {},
   "source": [
    "## PCA "
   ]
  },
  {
   "cell_type": "code",
   "execution_count": 17,
   "id": "91e32535",
   "metadata": {},
   "outputs": [],
   "source": [
    "# std\n",
    "X_train_resampled_std = (X_train_resampled - X_train_resampled.mean())/(X_train_resampled.std())"
   ]
  },
  {
   "cell_type": "code",
   "execution_count": 18,
   "id": "00aa774d",
   "metadata": {},
   "outputs": [
    {
     "data": {
      "image/png": "[encoded data removed]",
      "text/plain": [
       "<Figure size 640x480 with 1 Axes>"
      ]
     },
     "metadata": {},
     "output_type": "display_data"
    }
   ],
   "source": [
    "# PCA -- plot -> find # of components\n",
    "ax = plt.figure().gca()\n",
    "pca = PCA().fit(X_train_resampled_std)\n",
    "# graph -> Number of Components vs Cumulative Explained Variance\n",
    "ax.plot(np.cumsum(pca.explained_variance_ratio_))\n",
    "ax.xaxis.set_major_locator(MaxNLocator(integer=True))\n",
    "plt.axvline(x=80, linewidth=1, color='b', alpha=0.5)\n",
    "plt.xlabel('Number of Components')\n",
    "plt.ylabel('Cumulative Explained Variance')\n",
    "plt.show()"
   ]
  },
  {
   "cell_type": "code",
   "execution_count": 19,
   "id": "5db49418",
   "metadata": {},
   "outputs": [
    {
     "data": {
      "text/plain": [
       "0.8344339361863303"
      ]
     },
     "execution_count": 19,
     "metadata": {},
     "output_type": "execute_result"
    }
   ],
   "source": [
    "# explained variance by number of components\n",
    "pca = PCA(n_components=80)\n",
    "pca.fit(X_train_resampled_std)\n",
    "pca.explained_variance_ratio_.sum()"
   ]
  },
  {
   "cell_type": "code",
   "execution_count": 20,
   "id": "4b57ee9c",
   "metadata": {},
   "outputs": [
    {
     "data": {
      "text/html": [
       "<div>\n",
       "<style scoped>\n",
       "    .dataframe tbody tr th:only-of-type {\n",
       "        vertical-align: middle;\n",
       "    }\n",
       "\n",
       "    .dataframe tbody tr th {\n",
       "        vertical-align: top;\n",
       "    }\n",
       "\n",
       "    .dataframe thead th {\n",
       "        text-align: right;\n",
       "    }\n",
       "</style>\n",
       "<table border=\"1\" class=\"dataframe\">\n",
       "  <thead>\n",
       "    <tr style=\"text-align: right;\">\n",
       "      <th></th>\n",
       "      <th>0</th>\n",
       "      <th>1</th>\n",
       "      <th>2</th>\n",
       "      <th>3</th>\n",
       "      <th>4</th>\n",
       "      <th>5</th>\n",
       "      <th>6</th>\n",
       "      <th>7</th>\n",
       "      <th>8</th>\n",
       "      <th>9</th>\n",
       "      <th>...</th>\n",
       "      <th>70</th>\n",
       "      <th>71</th>\n",
       "      <th>72</th>\n",
       "      <th>73</th>\n",
       "      <th>74</th>\n",
       "      <th>75</th>\n",
       "      <th>76</th>\n",
       "      <th>77</th>\n",
       "      <th>78</th>\n",
       "      <th>79</th>\n",
       "    </tr>\n",
       "  </thead>\n",
       "  <tbody>\n",
       "    <tr>\n",
       "      <th>0</th>\n",
       "      <td>-9.524377</td>\n",
       "      <td>1.012822</td>\n",
       "      <td>-0.765243</td>\n",
       "      <td>1.090000</td>\n",
       "      <td>-3.288317</td>\n",
       "      <td>-1.185372</td>\n",
       "      <td>2.934064</td>\n",
       "      <td>2.876493</td>\n",
       "      <td>-0.663098</td>\n",
       "      <td>0.572543</td>\n",
       "      <td>...</td>\n",
       "      <td>-0.624967</td>\n",
       "      <td>-0.031104</td>\n",
       "      <td>1.351396</td>\n",
       "      <td>-0.037882</td>\n",
       "      <td>-0.063125</td>\n",
       "      <td>-0.179811</td>\n",
       "      <td>0.166932</td>\n",
       "      <td>0.421812</td>\n",
       "      <td>-0.444264</td>\n",
       "      <td>0.150143</td>\n",
       "    </tr>\n",
       "    <tr>\n",
       "      <th>1</th>\n",
       "      <td>-9.392617</td>\n",
       "      <td>0.778340</td>\n",
       "      <td>-0.673866</td>\n",
       "      <td>1.165278</td>\n",
       "      <td>-3.092596</td>\n",
       "      <td>-1.306844</td>\n",
       "      <td>2.358135</td>\n",
       "      <td>2.618431</td>\n",
       "      <td>-0.510287</td>\n",
       "      <td>0.542278</td>\n",
       "      <td>...</td>\n",
       "      <td>0.644702</td>\n",
       "      <td>0.098182</td>\n",
       "      <td>-0.238091</td>\n",
       "      <td>-0.312239</td>\n",
       "      <td>-0.224692</td>\n",
       "      <td>-0.010262</td>\n",
       "      <td>0.161297</td>\n",
       "      <td>0.459679</td>\n",
       "      <td>0.325148</td>\n",
       "      <td>-0.253840</td>\n",
       "    </tr>\n",
       "    <tr>\n",
       "      <th>2</th>\n",
       "      <td>-7.699234</td>\n",
       "      <td>0.955505</td>\n",
       "      <td>1.819554</td>\n",
       "      <td>-0.691221</td>\n",
       "      <td>-3.154929</td>\n",
       "      <td>-0.445490</td>\n",
       "      <td>3.475565</td>\n",
       "      <td>2.757652</td>\n",
       "      <td>-0.725291</td>\n",
       "      <td>-0.035429</td>\n",
       "      <td>...</td>\n",
       "      <td>-0.254616</td>\n",
       "      <td>-0.317104</td>\n",
       "      <td>0.190653</td>\n",
       "      <td>-0.065348</td>\n",
       "      <td>0.170685</td>\n",
       "      <td>0.222608</td>\n",
       "      <td>-0.701206</td>\n",
       "      <td>-0.191510</td>\n",
       "      <td>-0.218392</td>\n",
       "      <td>-0.076226</td>\n",
       "    </tr>\n",
       "    <tr>\n",
       "      <th>3</th>\n",
       "      <td>-4.572561</td>\n",
       "      <td>0.068618</td>\n",
       "      <td>2.212856</td>\n",
       "      <td>-2.543646</td>\n",
       "      <td>-2.473335</td>\n",
       "      <td>-0.342906</td>\n",
       "      <td>2.559165</td>\n",
       "      <td>2.104671</td>\n",
       "      <td>-0.215644</td>\n",
       "      <td>-0.437577</td>\n",
       "      <td>...</td>\n",
       "      <td>2.415470</td>\n",
       "      <td>0.474685</td>\n",
       "      <td>-3.996918</td>\n",
       "      <td>1.956228</td>\n",
       "      <td>-0.611031</td>\n",
       "      <td>1.919386</td>\n",
       "      <td>0.675616</td>\n",
       "      <td>0.895796</td>\n",
       "      <td>0.551755</td>\n",
       "      <td>0.678399</td>\n",
       "    </tr>\n",
       "    <tr>\n",
       "      <th>4</th>\n",
       "      <td>-9.433965</td>\n",
       "      <td>1.209940</td>\n",
       "      <td>-0.953494</td>\n",
       "      <td>1.611574</td>\n",
       "      <td>-1.787237</td>\n",
       "      <td>-1.202345</td>\n",
       "      <td>1.562597</td>\n",
       "      <td>2.394861</td>\n",
       "      <td>-0.238890</td>\n",
       "      <td>0.716814</td>\n",
       "      <td>...</td>\n",
       "      <td>-0.010926</td>\n",
       "      <td>-0.031287</td>\n",
       "      <td>-1.048192</td>\n",
       "      <td>-1.575709</td>\n",
       "      <td>0.090523</td>\n",
       "      <td>-0.091034</td>\n",
       "      <td>-0.927510</td>\n",
       "      <td>-0.063700</td>\n",
       "      <td>-0.390236</td>\n",
       "      <td>-0.021420</td>\n",
       "    </tr>\n",
       "  </tbody>\n",
       "</table>\n",
       "<p>5 rows × 80 columns</p>\n",
       "</div>"
      ],
      "text/plain": [
       "         0         1         2         3         4         5         6   \\\n",
       "0 -9.524377  1.012822 -0.765243  1.090000 -3.288317 -1.185372  2.934064   \n",
       "1 -9.392617  0.778340 -0.673866  1.165278 -3.092596 -1.306844  2.358135   \n",
       "2 -7.699234  0.955505  1.819554 -0.691221 -3.154929 -0.445490  3.475565   \n",
       "3 -4.572561  0.068618  2.212856 -2.543646 -2.473335 -0.342906  2.559165   \n",
       "4 -9.433965  1.209940 -0.953494  1.611574 -1.787237 -1.202345  1.562597   \n",
       "\n",
       "         7         8         9   ...        70        71        72        73  \\\n",
       "0  2.876493 -0.663098  0.572543  ... -0.624967 -0.031104  1.351396 -0.037882   \n",
       "1  2.618431 -0.510287  0.542278  ...  0.644702  0.098182 -0.238091 -0.312239   \n",
       "2  2.757652 -0.725291 -0.035429  ... -0.254616 -0.317104  0.190653 -0.065348   \n",
       "3  2.104671 -0.215644 -0.437577  ...  2.415470  0.474685 -3.996918  1.956228   \n",
       "4  2.394861 -0.238890  0.716814  ... -0.010926 -0.031287 -1.048192 -1.575709   \n",
       "\n",
       "         74        75        76        77        78        79  \n",
       "0 -0.063125 -0.179811  0.166932  0.421812 -0.444264  0.150143  \n",
       "1 -0.224692 -0.010262  0.161297  0.459679  0.325148 -0.253840  \n",
       "2  0.170685  0.222608 -0.701206 -0.191510 -0.218392 -0.076226  \n",
       "3 -0.611031  1.919386  0.675616  0.895796  0.551755  0.678399  \n",
       "4  0.090523 -0.091034 -0.927510 -0.063700 -0.390236 -0.021420  \n",
       "\n",
       "[5 rows x 80 columns]"
      ]
     },
     "execution_count": 20,
     "metadata": {},
     "output_type": "execute_result"
    }
   ],
   "source": [
    "# built PCA with the around 85% CEV\n",
    "df_pca_use_later= PCA(n_components=80)\n",
    "df_pca= df_pca_use_later.fit_transform(X_train_resampled_std)\n",
    "df_pca = pd.DataFrame(data = df_pca)\n",
    "df_pca.head()"
   ]
  },
  {
   "cell_type": "code",
   "execution_count": 14,
   "id": "fb5b982a",
   "metadata": {},
   "outputs": [
    {
     "name": "stdout",
     "output_type": "stream",
     "text": [
      "Reconstruction error: 2.8694792584406262e-30\n"
     ]
    }
   ],
   "source": [
    "# reconstruction error\n",
    "# Reconstruct data from the reduced representation\n",
    "X_reconstructed = pca.inverse_transform(pca.transform(X_train_resampled_std))\n",
    "# Calculate reconstruction error\n",
    "reconstruction_error = mean_squared_error(X_train_resampled_std, X_reconstructed)\n",
    "print(f\"Reconstruction error: {reconstruction_error}\")"
   ]
  },
  {
   "attachments": {},
   "cell_type": "markdown",
   "id": "a4a2159e",
   "metadata": {},
   "source": [
    "transform X_test as well\n"
   ]
  },
  {
   "cell_type": "code",
   "execution_count": 23,
   "id": "0c670b91",
   "metadata": {},
   "outputs": [],
   "source": [
    "X_test_pca = df_pca_use_later.transform(X_test)\n",
    "X_test_pca = pd.DataFrame(data = X_test_pca)"
   ]
  },
  {
   "cell_type": "markdown",
   "id": "48fcbb67",
   "metadata": {},
   "source": [
    "save it"
   ]
  },
  {
   "cell_type": "code",
   "execution_count": 24,
   "id": "ee1652d9",
   "metadata": {},
   "outputs": [],
   "source": [
    "# Checkpoint - output to pickle\n",
    "df_pca.to_pickle('PCA_X_train.pkl')\n",
    "y_train_resampled.to_pickle('PCA_y_train.pkl')\n",
    "X_test_pca.to_pickle('PCA_X_test.pkl')\n",
    "y_test.to_pickle('PCA_y_test.pkl')"
   ]
  },
  {
   "cell_type": "code",
   "execution_count": 37,
   "id": "d7591a55",
   "metadata": {},
   "outputs": [],
   "source": [
    "# convert the column names to strings for parquet\n",
    "df_pca.columns = df_pca.columns.astype(str)\n",
    "X_test_pca.columns = X_test_pca.columns.astype(str)"
   ]
  },
  {
   "cell_type": "code",
   "execution_count": 38,
   "id": "92460d62",
   "metadata": {},
   "outputs": [
    {
     "data": {
      "text/plain": [
       "array(['0', '1', '2', '3', '4', '5', '6', '7', '8', '9', '10', '11', '12',\n",
       "       '13', '14', '15', '16', '17', '18', '19', '20', '21', '22', '23',\n",
       "       '24', '25', '26', '27', '28', '29', '30', '31', '32', '33', '34',\n",
       "       '35', '36', '37', '38', '39', '40', '41', '42', '43', '44', '45',\n",
       "       '46', '47', '48', '49', '50', '51', '52', '53', '54', '55', '56',\n",
       "       '57', '58', '59', '60', '61', '62', '63', '64', '65', '66', '67',\n",
       "       '68', '69', '70', '71', '72', '73', '74', '75', '76', '77', '78',\n",
       "       '79'], dtype=object)"
      ]
     },
     "execution_count": 38,
     "metadata": {},
     "output_type": "execute_result"
    }
   ],
   "source": [
    "df_pca.columns.values"
   ]
  },
  {
   "cell_type": "code",
   "execution_count": 39,
   "id": "aacd86ae",
   "metadata": {},
   "outputs": [],
   "source": [
    "df_pca.to_parquet('PCA_X_train.parquet')\n",
    "X_test_pca.to_parquet('PCA_X_test.parquet')"
   ]
  },
  {
   "cell_type": "markdown",
   "id": "b186e388",
   "metadata": {},
   "source": [
    "## AUTOENCODER"
   ]
  },
  {
   "cell_type": "code",
   "execution_count": 8,
   "id": "20e6ea4f-5319-4974-8859-2142e1a9bca5",
   "metadata": {},
   "outputs": [],
   "source": [
    "# scale data to auencoder\n",
    "sData = minmax_scale(X_train_resampled, axis = 0) \n",
    "num_principleComponent = 10"
   ]
  },
  {
   "attachments": {},
   "cell_type": "markdown",
   "id": "04f97bff",
   "metadata": {},
   "source": [
    "We tried a couple of bottleneck layer node count. 10 was the best we get."
   ]
  },
  {
   "cell_type": "code",
   "execution_count": 9,
   "id": "f7ed11dd",
   "metadata": {},
   "outputs": [
    {
     "name": "stderr",
     "output_type": "stream",
     "text": [
      "2023-03-09 01:58:46.520503: W tensorflow/compiler/xla/stream_executor/platform/default/dso_loader.cc:64] Could not load dynamic library 'libcuda.so.1'; dlerror: libcuda.so.1: cannot open shared object file: No such file or directory\n",
      "2023-03-09 01:58:46.520530: W tensorflow/compiler/xla/stream_executor/cuda/cuda_driver.cc:265] failed call to cuInit: UNKNOWN ERROR (303)\n",
      "2023-03-09 01:58:46.520554: I tensorflow/compiler/xla/stream_executor/cuda/cuda_diagnostics.cc:156] kernel driver does not appear to be running on this host (msia-jupyter): /proc/driver/nvidia/version does not exist\n",
      "2023-03-09 01:58:46.520876: I tensorflow/core/platform/cpu_feature_guard.cc:193] This TensorFlow binary is optimized with oneAPI Deep Neural Network Library (oneDNN) to use the following CPU instructions in performance-critical operations:  AVX2 FMA\n",
      "To enable them in other operations, rebuild TensorFlow with the appropriate compiler flags.\n"
     ]
    },
    {
     "name": "stdout",
     "output_type": "stream",
     "text": [
      "Epoch 1/50\n",
      "24903/24903 [==============================] - 30s 1ms/step - loss: 0.0088\n",
      "Epoch 2/50\n",
      "24903/24903 [==============================] - 31s 1ms/step - loss: 0.0053\n",
      "Epoch 3/50\n",
      "24903/24903 [==============================] - 31s 1ms/step - loss: 0.0050\n",
      "Epoch 4/50\n",
      "24903/24903 [==============================] - 30s 1ms/step - loss: 0.0049\n",
      "Epoch 5/50\n",
      "24903/24903 [==============================] - 31s 1ms/step - loss: 0.0048\n",
      "Epoch 6/50\n",
      "24903/24903 [==============================] - 31s 1ms/step - loss: 0.0047\n",
      "Epoch 7/50\n",
      "24903/24903 [==============================] - 31s 1ms/step - loss: 0.0046\n",
      "Epoch 8/50\n",
      "24903/24903 [==============================] - 31s 1ms/step - loss: 0.0045\n",
      "Epoch 9/50\n",
      "24903/24903 [==============================] - 30s 1ms/step - loss: 0.0044\n",
      "Epoch 10/50\n",
      "24903/24903 [==============================] - 31s 1ms/step - loss: 0.0042\n",
      "Epoch 11/50\n",
      "24903/24903 [==============================] - 31s 1ms/step - loss: 0.0041\n",
      "Epoch 12/50\n",
      "24903/24903 [==============================] - 31s 1ms/step - loss: 0.0040\n",
      "Epoch 13/50\n",
      "24903/24903 [==============================] - 31s 1ms/step - loss: 0.0040\n",
      "Epoch 14/50\n",
      "24903/24903 [==============================] - 31s 1ms/step - loss: 0.0039\n",
      "Epoch 15/50\n",
      "24903/24903 [==============================] - 31s 1ms/step - loss: 0.0039\n",
      "Epoch 16/50\n",
      "24903/24903 [==============================] - 31s 1ms/step - loss: 0.0039\n",
      "Epoch 17/50\n",
      "24903/24903 [==============================] - 31s 1ms/step - loss: 0.0038\n",
      "Epoch 18/50\n",
      "24903/24903 [==============================] - 31s 1ms/step - loss: 0.0037\n",
      "Epoch 19/50\n",
      "24903/24903 [==============================] - 31s 1ms/step - loss: 0.0037\n",
      "Epoch 20/50\n",
      "24903/24903 [==============================] - 31s 1ms/step - loss: 0.0037\n",
      "Epoch 21/50\n",
      "24903/24903 [==============================] - 31s 1ms/step - loss: 0.0036\n",
      "Epoch 22/50\n",
      "24903/24903 [==============================] - 31s 1ms/step - loss: 0.0036\n",
      "Epoch 23/50\n",
      "24903/24903 [==============================] - 31s 1ms/step - loss: 0.0036\n",
      "Epoch 24/50\n",
      "24903/24903 [==============================] - 31s 1ms/step - loss: 0.0036\n",
      "Epoch 25/50\n",
      "24903/24903 [==============================] - 31s 1ms/step - loss: 0.0035\n",
      "Epoch 26/50\n",
      "24903/24903 [==============================] - 31s 1ms/step - loss: 0.0035\n",
      "Epoch 27/50\n",
      "24903/24903 [==============================] - 30s 1ms/step - loss: 0.0035\n",
      "Epoch 28/50\n",
      "24903/24903 [==============================] - 30s 1ms/step - loss: 0.0035\n",
      "Epoch 29/50\n",
      "24903/24903 [==============================] - 30s 1ms/step - loss: 0.0035\n",
      "Epoch 30/50\n",
      "24903/24903 [==============================] - 31s 1ms/step - loss: 0.0035\n",
      "Epoch 31/50\n",
      "24903/24903 [==============================] - 30s 1ms/step - loss: 0.0035\n",
      "Epoch 32/50\n",
      "24903/24903 [==============================] - 31s 1ms/step - loss: 0.0035\n",
      "Epoch 33/50\n",
      "24903/24903 [==============================] - 30s 1ms/step - loss: 0.0034\n",
      "Epoch 34/50\n",
      "24903/24903 [==============================] - 31s 1ms/step - loss: 0.0034\n",
      "Epoch 35/50\n",
      "24903/24903 [==============================] - 31s 1ms/step - loss: 0.0034\n",
      "Epoch 36/50\n",
      "24903/24903 [==============================] - 30s 1ms/step - loss: 0.0034\n",
      "Epoch 37/50\n",
      "24903/24903 [==============================] - 31s 1ms/step - loss: 0.0034\n",
      "Epoch 38/50\n",
      "24903/24903 [==============================] - 30s 1ms/step - loss: 0.0034\n",
      "Epoch 39/50\n",
      "24903/24903 [==============================] - 30s 1ms/step - loss: 0.0034\n",
      "Epoch 40/50\n",
      "24903/24903 [==============================] - 30s 1ms/step - loss: 0.0034\n",
      "Epoch 41/50\n",
      "24903/24903 [==============================] - 30s 1ms/step - loss: 0.0034\n",
      "Epoch 42/50\n",
      "24903/24903 [==============================] - 30s 1ms/step - loss: 0.0034\n",
      "Epoch 43/50\n",
      "24903/24903 [==============================] - 30s 1ms/step - loss: 0.0033\n",
      "Epoch 44/50\n",
      "24903/24903 [==============================] - 29s 1ms/step - loss: 0.0033\n",
      "Epoch 45/50\n",
      "24903/24903 [==============================] - 29s 1ms/step - loss: 0.0033\n",
      "Epoch 46/50\n",
      "24903/24903 [==============================] - 30s 1ms/step - loss: 0.0033\n",
      "Epoch 47/50\n",
      "24903/24903 [==============================] - 30s 1ms/step - loss: 0.0033\n",
      "Epoch 48/50\n",
      "24903/24903 [==============================] - 30s 1ms/step - loss: 0.0033\n",
      "Epoch 49/50\n",
      "24903/24903 [==============================] - 31s 1ms/step - loss: 0.0033\n",
      "Epoch 50/50\n",
      "24903/24903 [==============================] - 31s 1ms/step - loss: 0.0033\n",
      "24903/24903 [==============================] - 17s 664us/step\n",
      "(796896, 10)\n"
     ]
    }
   ],
   "source": [
    "# Define the input shape\n",
    "input_shape = (sData.shape[1],)\n",
    "\n",
    "# Define the encoding dimension\n",
    "encoding_dim = num_principleComponent\n",
    "\n",
    "# Define the input layer\n",
    "input_data = Input(shape=input_shape)\n",
    "\n",
    "# Define the encoder layers\n",
    "encoded = Dense(20, activation='relu')(input_data)\n",
    "encoded = Dense(10, activation='relu')(encoded)\n",
    "encoded = Dense(encoding_dim, activation='relu')(encoded)\n",
    "\n",
    "# Define the decoder layers\n",
    "decoded = Dense(10, activation='relu')(encoded)\n",
    "decoded = Dense(20, activation='relu')(decoded)\n",
    "decoded = Dense(input_shape[0], activation='sigmoid')(decoded)\n",
    "\n",
    "# Define the autoencoder model\n",
    "autoencoder = Model(inputs=input_data, outputs=decoded)\n",
    "\n",
    "# Define the encoder model\n",
    "encoder = Model(inputs=input_data, outputs=encoded)\n",
    "\n",
    "# Define the decoder model\n",
    "encoded_input = Input(shape=(encoding_dim,))\n",
    "decoder_layer1 = autoencoder.layers[-3]\n",
    "decoder_layer2 = autoencoder.layers[-2]\n",
    "decoder_layer3 = autoencoder.layers[-1]\n",
    "decoder = Model(inputs=encoded_input, outputs=decoder_layer3(decoder_layer2(decoder_layer1(encoded_input))))\n",
    "\n",
    "# Compile the model\n",
    "autoencoder.compile(optimizer='adam', loss='mse')\n",
    "\n",
    "# Train the model\n",
    "autoencoder.fit(sData, sData, epochs=50, batch_size=32, shuffle=True)\n",
    "\n",
    "# Use the encoder to get the reduced dimension representation of the data\n",
    "encoded_data = pd.DataFrame(encoder.predict(sData))\n",
    "\n",
    "# Print the shape of the reduced dimension representation\n",
    "print(encoded_data.shape)"
   ]
  },
  {
   "cell_type": "code",
   "execution_count": 13,
   "id": "fb1f1e7e",
   "metadata": {},
   "outputs": [
    {
     "name": "stdout",
     "output_type": "stream",
     "text": [
      "Keras weights file (<HDF5 file \"variables.h5\" (mode r+)>) saving:\n",
      "...layers\n",
      "......dense\n",
      ".........vars\n",
      "............0\n",
      "............1\n",
      "......dense_1\n",
      ".........vars\n",
      "............0\n",
      "............1\n",
      "......dense_2\n",
      ".........vars\n",
      "............0\n",
      "............1\n",
      "......input_layer\n",
      ".........vars\n",
      "...vars\n",
      "Keras model archive saving:\n",
      "File Name                                             Modified             Size\n",
      "metadata.json                                  2023-03-09 02:25:41           64\n",
      "config.json                                    2023-03-09 02:25:41         1894\n",
      "variables.h5                                   2023-03-09 02:25:41        56392\n"
     ]
    }
   ],
   "source": [
    "# Save the encoder to a pickle file\n",
    "with open('encoder.pkl', 'wb') as f:\n",
    "    pickle.dump(encoder, f)"
   ]
  },
  {
   "cell_type": "code",
   "execution_count": 27,
   "id": "8fa0a7cc",
   "metadata": {},
   "outputs": [
    {
     "name": "stdout",
     "output_type": "stream",
     "text": [
      "24903/24903 [==============================] - 23s 904us/step - loss: 0.0028\n",
      "Reconstruction error: 0.0028310194611549377\n"
     ]
    }
   ],
   "source": [
    "#the quality check of dimension reduction \n",
    "#A lower reconstruction error indicates a better quality of dimensionality reduction.\n",
    "#Evaluate the autoencoder on the same data used for training to get the reconstruction error\n",
    "loss = autoencoder.evaluate(sData, sData)\n",
    "print(\"Reconstruction error:\", loss)"
   ]
  },
  {
   "attachments": {},
   "cell_type": "markdown",
   "id": "2749a61b",
   "metadata": {},
   "source": [
    "Of course the reconstruction error is magnitude worse comparing to PCA, but still pretty good. For the consideration of computational complexity, we decided to go with 10 columns. "
   ]
  },
  {
   "cell_type": "code",
   "execution_count": 29,
   "id": "4ce8ad49",
   "metadata": {},
   "outputs": [
    {
     "data": {
      "text/plain": [
       "10"
      ]
     },
     "execution_count": 29,
     "metadata": {},
     "output_type": "execute_result"
    }
   ],
   "source": [
    "encoded_data.shape[1]"
   ]
  },
  {
   "cell_type": "code",
   "execution_count": 30,
   "id": "2a05ebae",
   "metadata": {},
   "outputs": [
    {
     "name": "stdout",
     "output_type": "stream",
     "text": [
      "24903/24903 [==============================] - 18s 740us/step\n"
     ]
    }
   ],
   "source": [
    "X_train_min = X_train_resampled.min()\n",
    "X_train_max = X_train_resampled.max()\n",
    "X_train_range = X_train_max - X_train_min\n",
    "# min-max scaling X_test\n",
    "X_test_scaled = (X_test - X_train_min)/(X_train_range)\n",
    "encoded_test_data = pd.DataFrame(encoder.predict(sData))"
   ]
  },
  {
   "cell_type": "code",
   "execution_count": 31,
   "id": "4037eb31",
   "metadata": {},
   "outputs": [
    {
     "data": {
      "text/plain": [
       "10"
      ]
     },
     "execution_count": 31,
     "metadata": {},
     "output_type": "execute_result"
    }
   ],
   "source": [
    "encoded_test_data.shape[1]"
   ]
  },
  {
   "cell_type": "code",
   "execution_count": 32,
   "id": "54fce9af",
   "metadata": {},
   "outputs": [],
   "source": [
    "#output to pickle\n",
    "encoded_data.to_pickle('AE_X_train.pkl')\n",
    "y_train_resampled.to_pickle('AE_y_train.pkl')\n",
    "encoded_test_data.to_pickle('AE_X_test.pkl')\n",
    "y_test.to_pickle('AE_y_test.pkl')"
   ]
  },
  {
   "cell_type": "markdown",
   "id": "7d067f98",
   "metadata": {},
   "source": [
    "## Visualization (TSNE, UMAP)"
   ]
  },
  {
   "cell_type": "markdown",
   "id": "e1906efb",
   "metadata": {},
   "source": [
    "## TSNE"
   ]
  },
  {
   "cell_type": "code",
   "execution_count": 32,
   "id": "7b69420d",
   "metadata": {},
   "outputs": [
    {
     "name": "stderr",
     "output_type": "stream",
     "text": [
      "/nfs/home/zle2435/.local/lib/python3.10/site-packages/sklearn/manifold/_t_sne.py:800: FutureWarning: The default initialization in TSNE will change from 'random' to 'pca' in 1.2.\n",
      "  warnings.warn(\n",
      "/nfs/home/zle2435/.local/lib/python3.10/site-packages/sklearn/manifold/_t_sne.py:810: FutureWarning: The default learning rate in TSNE will change from 200.0 to 'auto' in 1.2.\n",
      "  warnings.warn(\n"
     ]
    }
   ],
   "source": [
    "# tsne for visualization with 2d ( could be 3d if needed )\n",
    "df_tsne = TSNE(n_components=2 , perplexity=20, random_state=0).fit_transform(X_train_resampled_std)\n",
    "df_tsne = pd.DataFrame(data = df_tsne)\n",
    "df_tsne = pd.concat([df_tsne.reset_index().drop(['index'],axis=1),y_train_resampled.reset_index().drop(['index'],axis=1)], axis=1)\n",
    "\n",
    "sns.pairplot(x_vars=0, y_vars=1, data=df_tsne, hue=\"is_canceled\",palette=\"YlGnBu\",size=5,aspect=1.2)\n",
    "plt.title('T-SNE')\n",
    "plt.show()"
   ]
  },
  {
   "cell_type": "markdown",
   "id": "d0c3133e",
   "metadata": {},
   "source": [
    "## UMAP"
   ]
  },
  {
   "cell_type": "code",
   "execution_count": 17,
   "id": "74a2844c",
   "metadata": {},
   "outputs": [
    {
     "name": "stderr",
     "output_type": "stream",
     "text": [
      "/nfs/home/wze8136/.local/lib/python3.9/site-packages/seaborn/axisgrid.py:2095: UserWarning: The `size` parameter has been renamed to `height`; please update your code.\n",
      "  warnings.warn(msg, UserWarning)\n"
     ]
    },
    {
     "data": {
      "image/png": "[encoded data removed]",
      "text/plain": [
       "<Figure size 498.125x360 with 1 Axes>"
      ]
     },
     "metadata": {
      "needs_background": "light"
     },
     "output_type": "display_data"
    }
   ],
   "source": [
    "# UMAP for visualization with 2d ( could be 3d if needed )\n",
    "umap_2d = umap.UMAP(n_components=2, init='random', random_state=0).fit_transform(X_train_resampled_std)\n",
    "proj_2d = pd.DataFrame(data = umap_2d)\n",
    "proj_2d = pd.concat([proj_2d.reset_index().drop(['index'],axis=1),y_train_resampled.reset_index().drop(['index'],axis=1)], axis=1)\n",
    "\n",
    "sns.pairplot(x_vars=0, y_vars=1, data=proj_2d, hue=\"is_canceled\",palette=\"YlGnBu\",size=5,aspect=1.2)\n",
    "plt.title('U-MAP')\n",
    "plt.show()"
   ]
  },
  {
   "cell_type": "code",
   "execution_count": null,
   "id": "69fdb2ba-39a9-421b-919e-28e64ffc4c19",
   "metadata": {},
   "outputs": [],
   "source": [
    "# Import required libraries\n",
    "from sklearn.datasets import load_breast_cancer\n",
    "from sklearn.model_selection import train_test_split\n",
    "from sklearn.decomposition import PCA\n",
    "from sklearn.linear_model import LogisticRegression\n",
    "from sklearn.metrics import accuracy_score\n",
    "\n",
    "# Load the dataset\n",
    "data = load_breast_cancer()\n",
    "X, y = data.data, data.target\n",
    "\n",
    "# Split the dataset into a training set and a test set\n",
    "X_train, X_test, y_train, y_test = train_test_split(X, y, test_size=0.3, random_state=42)\n",
    "\n",
    "# Apply PCA on the training set\n",
    "pca = PCA(n_components=10)\n",
    "X_train_pca = pca.fit_transform(X_train)\n",
    "\n",
    "# Train a logistic regression model on the preprocessed training set\n",
    "model = LogisticRegression()\n",
    "model.fit(X_train_pca, y_train)\n",
    "\n",
    "# Apply the same PCA transformation to the test set\n",
    "X_test_pca = pca.transform(X_test)\n",
    "\n",
    "# Use the trained model to make predictions on the test set\n",
    "y_pred = model.predict(X_test_pca)\n",
    "\n"
   ]
  },
  {
   "attachments": {},
   "cell_type": "markdown",
   "id": "288aae5b",
   "metadata": {},
   "source": [
    "### Testing if the google drive uploads are readable"
   ]
  },
  {
   "attachments": {},
   "cell_type": "markdown",
   "id": "e5ef31b8",
   "metadata": {},
   "source": [
    "##### Auto Encoder"
   ]
  },
  {
   "cell_type": "code",
   "execution_count": 54,
   "id": "a7cc8ff8",
   "metadata": {},
   "outputs": [
    {
     "data": {
      "text/plain": [
       "17143     0\n",
       "288071    0\n",
       "403516    0\n",
       "382751    0\n",
       "36415     0\n",
       "Name: isFraud, dtype: int8"
      ]
     },
     "execution_count": 54,
     "metadata": {},
     "output_type": "execute_result"
    }
   ],
   "source": [
    "url = 'https://drive.google.com/file/d/1E9bFoMAwMVPMkZHmMQfWvSgaWoCLtKp4/view?usp=share_link'\n",
    "url = 'https://drive.google.com/uc?id=' + url.split('/')[-2]\n",
    "df_y_test = pd.read_pickle(url)\n",
    "df_y_test.head()"
   ]
  },
  {
   "cell_type": "code",
   "execution_count": 55,
   "id": "ffec1205",
   "metadata": {},
   "outputs": [
    {
     "data": {
      "text/plain": [
       "0    0\n",
       "1    0\n",
       "2    0\n",
       "3    0\n",
       "4    0\n",
       "Name: isFraud, dtype: int8"
      ]
     },
     "execution_count": 55,
     "metadata": {},
     "output_type": "execute_result"
    }
   ],
   "source": [
    "url = 'https://drive.google.com/file/d/1dknbQLJhQsbSFDNIpwjxZQwPc3fF14yF/view?usp=share_link'\n",
    "url = 'https://drive.google.com/uc?id=' + url.split('/')[-2]\n",
    "df_y_train = pd.read_pickle(url)\n",
    "df_y_train.head()"
   ]
  },
  {
   "cell_type": "code",
   "execution_count": 56,
   "id": "955cae65",
   "metadata": {},
   "outputs": [
    {
     "data": {
      "text/html": [
       "<div>\n",
       "<style scoped>\n",
       "    .dataframe tbody tr th:only-of-type {\n",
       "        vertical-align: middle;\n",
       "    }\n",
       "\n",
       "    .dataframe tbody tr th {\n",
       "        vertical-align: top;\n",
       "    }\n",
       "\n",
       "    .dataframe thead th {\n",
       "        text-align: right;\n",
       "    }\n",
       "</style>\n",
       "<table border=\"1\" class=\"dataframe\">\n",
       "  <thead>\n",
       "    <tr style=\"text-align: right;\">\n",
       "      <th></th>\n",
       "      <th>0</th>\n",
       "      <th>1</th>\n",
       "      <th>2</th>\n",
       "      <th>3</th>\n",
       "      <th>4</th>\n",
       "      <th>5</th>\n",
       "      <th>6</th>\n",
       "      <th>7</th>\n",
       "      <th>8</th>\n",
       "      <th>9</th>\n",
       "    </tr>\n",
       "  </thead>\n",
       "  <tbody>\n",
       "    <tr>\n",
       "      <th>0</th>\n",
       "      <td>7.753103</td>\n",
       "      <td>0.000000</td>\n",
       "      <td>12.101476</td>\n",
       "      <td>0.0</td>\n",
       "      <td>2.849138</td>\n",
       "      <td>7.366708</td>\n",
       "      <td>0.0</td>\n",
       "      <td>0.000000</td>\n",
       "      <td>13.792309</td>\n",
       "      <td>1.935020</td>\n",
       "    </tr>\n",
       "    <tr>\n",
       "      <th>1</th>\n",
       "      <td>3.605611</td>\n",
       "      <td>0.149467</td>\n",
       "      <td>9.363172</td>\n",
       "      <td>0.0</td>\n",
       "      <td>1.098339</td>\n",
       "      <td>12.561184</td>\n",
       "      <td>0.0</td>\n",
       "      <td>7.492346</td>\n",
       "      <td>8.324308</td>\n",
       "      <td>8.584323</td>\n",
       "    </tr>\n",
       "    <tr>\n",
       "      <th>2</th>\n",
       "      <td>3.699365</td>\n",
       "      <td>0.000000</td>\n",
       "      <td>6.206605</td>\n",
       "      <td>0.0</td>\n",
       "      <td>3.048371</td>\n",
       "      <td>3.739421</td>\n",
       "      <td>0.0</td>\n",
       "      <td>0.000000</td>\n",
       "      <td>12.409950</td>\n",
       "      <td>8.039093</td>\n",
       "    </tr>\n",
       "    <tr>\n",
       "      <th>3</th>\n",
       "      <td>4.997734</td>\n",
       "      <td>1.900816</td>\n",
       "      <td>8.737974</td>\n",
       "      <td>0.0</td>\n",
       "      <td>5.913760</td>\n",
       "      <td>0.000000</td>\n",
       "      <td>0.0</td>\n",
       "      <td>0.000000</td>\n",
       "      <td>5.463495</td>\n",
       "      <td>8.636847</td>\n",
       "    </tr>\n",
       "    <tr>\n",
       "      <th>4</th>\n",
       "      <td>4.055901</td>\n",
       "      <td>0.000000</td>\n",
       "      <td>12.177122</td>\n",
       "      <td>0.0</td>\n",
       "      <td>1.169135</td>\n",
       "      <td>13.404551</td>\n",
       "      <td>0.0</td>\n",
       "      <td>3.746340</td>\n",
       "      <td>7.998685</td>\n",
       "      <td>4.520480</td>\n",
       "    </tr>\n",
       "  </tbody>\n",
       "</table>\n",
       "</div>"
      ],
      "text/plain": [
       "          0         1          2    3         4          5    6         7  \\\n",
       "0  7.753103  0.000000  12.101476  0.0  2.849138   7.366708  0.0  0.000000   \n",
       "1  3.605611  0.149467   9.363172  0.0  1.098339  12.561184  0.0  7.492346   \n",
       "2  3.699365  0.000000   6.206605  0.0  3.048371   3.739421  0.0  0.000000   \n",
       "3  4.997734  1.900816   8.737974  0.0  5.913760   0.000000  0.0  0.000000   \n",
       "4  4.055901  0.000000  12.177122  0.0  1.169135  13.404551  0.0  3.746340   \n",
       "\n",
       "           8         9  \n",
       "0  13.792309  1.935020  \n",
       "1   8.324308  8.584323  \n",
       "2  12.409950  8.039093  \n",
       "3   5.463495  8.636847  \n",
       "4   7.998685  4.520480  "
      ]
     },
     "execution_count": 56,
     "metadata": {},
     "output_type": "execute_result"
    }
   ],
   "source": [
    "url = 'https://drive.google.com/file/d/105vmXogIQU8srmtdzfCHYQ9G-T7Iu5hl/view?usp=share_link'\n",
    "url = 'https://drive.google.com/uc?id=' + url.split('/')[-2]\n",
    "df_X_test = pd.read_pickle(url)\n",
    "df_X_test.head()"
   ]
  },
  {
   "cell_type": "code",
   "execution_count": 57,
   "id": "9e4f2bf7",
   "metadata": {},
   "outputs": [
    {
     "data": {
      "text/html": [
       "<div>\n",
       "<style scoped>\n",
       "    .dataframe tbody tr th:only-of-type {\n",
       "        vertical-align: middle;\n",
       "    }\n",
       "\n",
       "    .dataframe tbody tr th {\n",
       "        vertical-align: top;\n",
       "    }\n",
       "\n",
       "    .dataframe thead th {\n",
       "        text-align: right;\n",
       "    }\n",
       "</style>\n",
       "<table border=\"1\" class=\"dataframe\">\n",
       "  <thead>\n",
       "    <tr style=\"text-align: right;\">\n",
       "      <th></th>\n",
       "      <th>0</th>\n",
       "      <th>1</th>\n",
       "      <th>2</th>\n",
       "      <th>3</th>\n",
       "      <th>4</th>\n",
       "      <th>5</th>\n",
       "      <th>6</th>\n",
       "      <th>7</th>\n",
       "      <th>8</th>\n",
       "      <th>9</th>\n",
       "    </tr>\n",
       "  </thead>\n",
       "  <tbody>\n",
       "    <tr>\n",
       "      <th>0</th>\n",
       "      <td>7.753103</td>\n",
       "      <td>0.000000</td>\n",
       "      <td>12.101476</td>\n",
       "      <td>0.0</td>\n",
       "      <td>2.849138</td>\n",
       "      <td>7.366708</td>\n",
       "      <td>0.0</td>\n",
       "      <td>0.000000</td>\n",
       "      <td>13.792309</td>\n",
       "      <td>1.935020</td>\n",
       "    </tr>\n",
       "    <tr>\n",
       "      <th>1</th>\n",
       "      <td>3.605611</td>\n",
       "      <td>0.149467</td>\n",
       "      <td>9.363172</td>\n",
       "      <td>0.0</td>\n",
       "      <td>1.098339</td>\n",
       "      <td>12.561184</td>\n",
       "      <td>0.0</td>\n",
       "      <td>7.492346</td>\n",
       "      <td>8.324308</td>\n",
       "      <td>8.584323</td>\n",
       "    </tr>\n",
       "    <tr>\n",
       "      <th>2</th>\n",
       "      <td>3.699365</td>\n",
       "      <td>0.000000</td>\n",
       "      <td>6.206605</td>\n",
       "      <td>0.0</td>\n",
       "      <td>3.048371</td>\n",
       "      <td>3.739421</td>\n",
       "      <td>0.0</td>\n",
       "      <td>0.000000</td>\n",
       "      <td>12.409950</td>\n",
       "      <td>8.039093</td>\n",
       "    </tr>\n",
       "    <tr>\n",
       "      <th>3</th>\n",
       "      <td>4.997734</td>\n",
       "      <td>1.900816</td>\n",
       "      <td>8.737974</td>\n",
       "      <td>0.0</td>\n",
       "      <td>5.913760</td>\n",
       "      <td>0.000000</td>\n",
       "      <td>0.0</td>\n",
       "      <td>0.000000</td>\n",
       "      <td>5.463495</td>\n",
       "      <td>8.636847</td>\n",
       "    </tr>\n",
       "    <tr>\n",
       "      <th>4</th>\n",
       "      <td>4.055901</td>\n",
       "      <td>0.000000</td>\n",
       "      <td>12.177122</td>\n",
       "      <td>0.0</td>\n",
       "      <td>1.169135</td>\n",
       "      <td>13.404551</td>\n",
       "      <td>0.0</td>\n",
       "      <td>3.746340</td>\n",
       "      <td>7.998685</td>\n",
       "      <td>4.520480</td>\n",
       "    </tr>\n",
       "  </tbody>\n",
       "</table>\n",
       "</div>"
      ],
      "text/plain": [
       "          0         1          2    3         4          5    6         7  \\\n",
       "0  7.753103  0.000000  12.101476  0.0  2.849138   7.366708  0.0  0.000000   \n",
       "1  3.605611  0.149467   9.363172  0.0  1.098339  12.561184  0.0  7.492346   \n",
       "2  3.699365  0.000000   6.206605  0.0  3.048371   3.739421  0.0  0.000000   \n",
       "3  4.997734  1.900816   8.737974  0.0  5.913760   0.000000  0.0  0.000000   \n",
       "4  4.055901  0.000000  12.177122  0.0  1.169135  13.404551  0.0  3.746340   \n",
       "\n",
       "           8         9  \n",
       "0  13.792309  1.935020  \n",
       "1   8.324308  8.584323  \n",
       "2  12.409950  8.039093  \n",
       "3   5.463495  8.636847  \n",
       "4   7.998685  4.520480  "
      ]
     },
     "execution_count": 57,
     "metadata": {},
     "output_type": "execute_result"
    }
   ],
   "source": [
    "url = 'https://drive.google.com/file/d/1QemU274E0c14R8uknuipP20rNgDSLzcg/view?usp=share_link'\n",
    "url = 'https://drive.google.com/uc?id=' + url.split('/')[-2]\n",
    "df_X_train = pd.read_pickle(url)\n",
    "df_X_train.head()"
   ]
  },
  {
   "cell_type": "markdown",
   "id": "3ab985fe",
   "metadata": {},
   "source": [
    "#### PCA"
   ]
  },
  {
   "cell_type": "code",
   "execution_count": 58,
   "id": "20f948d1",
   "metadata": {},
   "outputs": [
    {
     "data": {
      "text/plain": [
       "17143     0\n",
       "288071    0\n",
       "403516    0\n",
       "382751    0\n",
       "36415     0\n",
       "Name: isFraud, dtype: int8"
      ]
     },
     "execution_count": 58,
     "metadata": {},
     "output_type": "execute_result"
    }
   ],
   "source": [
    "url = 'https://drive.google.com/file/d/1j_TvH1bVTIkDunKPigUEMScnPbWCBObD/view?usp=share_link'\n",
    "url = 'https://drive.google.com/uc?id=' + url.split('/')[-2]\n",
    "df_y_test = pd.read_pickle(url)\n",
    "df_y_test.head()"
   ]
  },
  {
   "cell_type": "code",
   "execution_count": 59,
   "id": "6f88f1e1",
   "metadata": {},
   "outputs": [
    {
     "data": {
      "text/plain": [
       "0    0\n",
       "1    0\n",
       "2    0\n",
       "3    0\n",
       "4    0\n",
       "Name: isFraud, dtype: int8"
      ]
     },
     "execution_count": 59,
     "metadata": {},
     "output_type": "execute_result"
    }
   ],
   "source": [
    "url = 'https://drive.google.com/file/d/1_zEVE2BBYWHiIJ3kK39V_zm6duEG5Td6/view?usp=share_link'\n",
    "url = 'https://drive.google.com/uc?id=' + url.split('/')[-2]\n",
    "df_y_train = pd.read_pickle(url)\n",
    "df_y_train.head()"
   ]
  },
  {
   "cell_type": "code",
   "execution_count": 60,
   "id": "d77c5dd3",
   "metadata": {},
   "outputs": [
    {
     "data": {
      "text/html": [
       "<div>\n",
       "<style scoped>\n",
       "    .dataframe tbody tr th:only-of-type {\n",
       "        vertical-align: middle;\n",
       "    }\n",
       "\n",
       "    .dataframe tbody tr th {\n",
       "        vertical-align: top;\n",
       "    }\n",
       "\n",
       "    .dataframe thead th {\n",
       "        text-align: right;\n",
       "    }\n",
       "</style>\n",
       "<table border=\"1\" class=\"dataframe\">\n",
       "  <thead>\n",
       "    <tr style=\"text-align: right;\">\n",
       "      <th></th>\n",
       "      <th>0</th>\n",
       "      <th>1</th>\n",
       "      <th>2</th>\n",
       "      <th>3</th>\n",
       "      <th>4</th>\n",
       "      <th>5</th>\n",
       "      <th>6</th>\n",
       "      <th>7</th>\n",
       "      <th>8</th>\n",
       "      <th>9</th>\n",
       "      <th>...</th>\n",
       "      <th>70</th>\n",
       "      <th>71</th>\n",
       "      <th>72</th>\n",
       "      <th>73</th>\n",
       "      <th>74</th>\n",
       "      <th>75</th>\n",
       "      <th>76</th>\n",
       "      <th>77</th>\n",
       "      <th>78</th>\n",
       "      <th>79</th>\n",
       "    </tr>\n",
       "  </thead>\n",
       "  <tbody>\n",
       "    <tr>\n",
       "      <th>0</th>\n",
       "      <td>-2263.805582</td>\n",
       "      <td>20719.861272</td>\n",
       "      <td>-60315.233714</td>\n",
       "      <td>61644.683060</td>\n",
       "      <td>3116.030427</td>\n",
       "      <td>-25369.688205</td>\n",
       "      <td>-38139.905187</td>\n",
       "      <td>-702.517208</td>\n",
       "      <td>1819.957650</td>\n",
       "      <td>45475.338417</td>\n",
       "      <td>...</td>\n",
       "      <td>88294.148554</td>\n",
       "      <td>407646.373785</td>\n",
       "      <td>-237776.036485</td>\n",
       "      <td>251876.048480</td>\n",
       "      <td>-110012.047119</td>\n",
       "      <td>-254357.948281</td>\n",
       "      <td>126975.636937</td>\n",
       "      <td>-90799.056299</td>\n",
       "      <td>36992.959101</td>\n",
       "      <td>223425.208494</td>\n",
       "    </tr>\n",
       "    <tr>\n",
       "      <th>1</th>\n",
       "      <td>-9422.727324</td>\n",
       "      <td>20292.511709</td>\n",
       "      <td>-78160.840088</td>\n",
       "      <td>82550.519787</td>\n",
       "      <td>9947.610388</td>\n",
       "      <td>-41243.004810</td>\n",
       "      <td>-73318.280887</td>\n",
       "      <td>46489.388469</td>\n",
       "      <td>-72288.826124</td>\n",
       "      <td>43799.850606</td>\n",
       "      <td>...</td>\n",
       "      <td>95281.413919</td>\n",
       "      <td>423910.084836</td>\n",
       "      <td>-245377.431734</td>\n",
       "      <td>265797.970579</td>\n",
       "      <td>-111711.335490</td>\n",
       "      <td>-259922.101123</td>\n",
       "      <td>133720.194168</td>\n",
       "      <td>-88985.743284</td>\n",
       "      <td>37230.353763</td>\n",
       "      <td>229712.885328</td>\n",
       "    </tr>\n",
       "    <tr>\n",
       "      <th>2</th>\n",
       "      <td>-9999.751769</td>\n",
       "      <td>21613.000749</td>\n",
       "      <td>-83545.348947</td>\n",
       "      <td>88235.770289</td>\n",
       "      <td>10368.572243</td>\n",
       "      <td>-44102.191584</td>\n",
       "      <td>-78256.907781</td>\n",
       "      <td>49793.739484</td>\n",
       "      <td>-77303.251469</td>\n",
       "      <td>46821.980077</td>\n",
       "      <td>...</td>\n",
       "      <td>101360.804417</td>\n",
       "      <td>452941.132706</td>\n",
       "      <td>-266092.450618</td>\n",
       "      <td>284121.667087</td>\n",
       "      <td>-119314.451246</td>\n",
       "      <td>-277112.442672</td>\n",
       "      <td>141375.042222</td>\n",
       "      <td>-97735.032906</td>\n",
       "      <td>40151.520273</td>\n",
       "      <td>245444.728982</td>\n",
       "    </tr>\n",
       "    <tr>\n",
       "      <th>3</th>\n",
       "      <td>-9922.198976</td>\n",
       "      <td>21493.251067</td>\n",
       "      <td>-82560.261911</td>\n",
       "      <td>87120.304342</td>\n",
       "      <td>10350.677466</td>\n",
       "      <td>-43566.987798</td>\n",
       "      <td>-77359.259117</td>\n",
       "      <td>49149.346449</td>\n",
       "      <td>-76338.965552</td>\n",
       "      <td>46255.141424</td>\n",
       "      <td>...</td>\n",
       "      <td>100648.409228</td>\n",
       "      <td>447600.430326</td>\n",
       "      <td>-259328.661038</td>\n",
       "      <td>280641.019204</td>\n",
       "      <td>-117909.823113</td>\n",
       "      <td>-274456.801857</td>\n",
       "      <td>141191.430296</td>\n",
       "      <td>-93979.600846</td>\n",
       "      <td>39298.229276</td>\n",
       "      <td>242618.266555</td>\n",
       "    </tr>\n",
       "    <tr>\n",
       "      <th>4</th>\n",
       "      <td>-3003.782193</td>\n",
       "      <td>17883.093746</td>\n",
       "      <td>-77812.618967</td>\n",
       "      <td>78880.179040</td>\n",
       "      <td>8510.506715</td>\n",
       "      <td>-36580.110988</td>\n",
       "      <td>-75185.439854</td>\n",
       "      <td>49058.516472</td>\n",
       "      <td>-70012.750009</td>\n",
       "      <td>42942.885413</td>\n",
       "      <td>...</td>\n",
       "      <td>92554.420103</td>\n",
       "      <td>417605.808685</td>\n",
       "      <td>-237885.155027</td>\n",
       "      <td>259195.051719</td>\n",
       "      <td>-111175.877086</td>\n",
       "      <td>-255848.515547</td>\n",
       "      <td>131403.181283</td>\n",
       "      <td>-85851.152768</td>\n",
       "      <td>38619.495203</td>\n",
       "      <td>225645.093211</td>\n",
       "    </tr>\n",
       "  </tbody>\n",
       "</table>\n",
       "<p>5 rows × 80 columns</p>\n",
       "</div>"
      ],
      "text/plain": [
       "             0             1             2             3             4  \\\n",
       "0 -2263.805582  20719.861272 -60315.233714  61644.683060   3116.030427   \n",
       "1 -9422.727324  20292.511709 -78160.840088  82550.519787   9947.610388   \n",
       "2 -9999.751769  21613.000749 -83545.348947  88235.770289  10368.572243   \n",
       "3 -9922.198976  21493.251067 -82560.261911  87120.304342  10350.677466   \n",
       "4 -3003.782193  17883.093746 -77812.618967  78880.179040   8510.506715   \n",
       "\n",
       "              5             6             7             8             9  ...  \\\n",
       "0 -25369.688205 -38139.905187   -702.517208   1819.957650  45475.338417  ...   \n",
       "1 -41243.004810 -73318.280887  46489.388469 -72288.826124  43799.850606  ...   \n",
       "2 -44102.191584 -78256.907781  49793.739484 -77303.251469  46821.980077  ...   \n",
       "3 -43566.987798 -77359.259117  49149.346449 -76338.965552  46255.141424  ...   \n",
       "4 -36580.110988 -75185.439854  49058.516472 -70012.750009  42942.885413  ...   \n",
       "\n",
       "              70             71             72             73             74  \\\n",
       "0   88294.148554  407646.373785 -237776.036485  251876.048480 -110012.047119   \n",
       "1   95281.413919  423910.084836 -245377.431734  265797.970579 -111711.335490   \n",
       "2  101360.804417  452941.132706 -266092.450618  284121.667087 -119314.451246   \n",
       "3  100648.409228  447600.430326 -259328.661038  280641.019204 -117909.823113   \n",
       "4   92554.420103  417605.808685 -237885.155027  259195.051719 -111175.877086   \n",
       "\n",
       "              75             76            77            78             79  \n",
       "0 -254357.948281  126975.636937 -90799.056299  36992.959101  223425.208494  \n",
       "1 -259922.101123  133720.194168 -88985.743284  37230.353763  229712.885328  \n",
       "2 -277112.442672  141375.042222 -97735.032906  40151.520273  245444.728982  \n",
       "3 -274456.801857  141191.430296 -93979.600846  39298.229276  242618.266555  \n",
       "4 -255848.515547  131403.181283 -85851.152768  38619.495203  225645.093211  \n",
       "\n",
       "[5 rows x 80 columns]"
      ]
     },
     "execution_count": 60,
     "metadata": {},
     "output_type": "execute_result"
    }
   ],
   "source": [
    "url = 'https://drive.google.com/file/d/1hpj2k1PV6ia6W0eLBvh53QLvlvg5owUJ/view?usp=share_link'\n",
    "url = 'https://drive.google.com/uc?id=' + url.split('/')[-2]\n",
    "df_X_test = pd.read_parquet(url)\n",
    "df_X_test.head()"
   ]
  },
  {
   "cell_type": "code",
   "execution_count": null,
   "id": "c04ece79",
   "metadata": {},
   "outputs": [],
   "source": [
    "url = r'' # insert your folder address for PCA_X_train.parquet here\n",
    "df_X_train = pd.read_parquet(url)\n",
    "df_X_train.head()"
   ]
  }
 ],
 "metadata": {
  "kernelspec": {
   "display_name": "Python 3 (ipykernel)",
   "language": "python",
   "name": "python3"
  },
  "language_info": {
   "codemirror_mode": {
    "name": "ipython",
    "version": 3
   },
   "file_extension": ".py",
   "mimetype": "text/x-python",
   "name": "python",
   "nbconvert_exporter": "python",
   "pygments_lexer": "ipython3",
   "version": "3.10.6"
  }
 },
 "nbformat": 4,
 "nbformat_minor": 5
}
